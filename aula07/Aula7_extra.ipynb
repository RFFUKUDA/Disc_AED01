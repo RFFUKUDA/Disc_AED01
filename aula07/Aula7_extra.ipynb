{
 "cells": [
  {
   "cell_type": "markdown",
   "id": "850f7174-99c9-43bf-b899-314cb086da9a",
   "metadata": {},
   "source": [
    "# Validando mairoidade"
   ]
  },
  {
   "cell_type": "code",
   "execution_count": 6,
   "id": "ee9db079-c7a6-473c-a8bd-dcebb02a884b",
   "metadata": {},
   "outputs": [
    {
     "name": "stdin",
     "output_type": "stream",
     "text": [
      "Digite a sua idade 16\n"
     ]
    }
   ],
   "source": [
    "idade =int(input(\"Digite a sua idade\"))"
   ]
  },
  {
   "cell_type": "code",
   "execution_count": 8,
   "id": "d68a8986-3c8d-47ea-b667-1aaa25c0ff8e",
   "metadata": {},
   "outputs": [
    {
     "name": "stdout",
     "output_type": "stream",
     "text": [
      "Que pena! Logo você será maior de idade\n",
      "Viva e aproveite a sua juventude\n",
      "FIM\n"
     ]
    }
   ],
   "source": [
    "if (idade>= 18):\n",
    "    print('Parabens! Você é maior de idade')\n",
    "else:\n",
    "    print('Que pena! Logo você será maior de idade')\n",
    "    print('Viva e aproveite a sua juventude')\n",
    "print('FIM')"
   ]
  },
  {
   "cell_type": "markdown",
   "id": "24b7ef5d-a0c5-481e-90d4-b8d6bc3af008",
   "metadata": {},
   "source": [
    "# Media aritimetica das notas"
   ]
  },
  {
   "cell_type": "code",
   "execution_count": 14,
   "id": "fac39df9-3bfa-4173-8d8d-12bc494fe8dc",
   "metadata": {},
   "outputs": [
    {
     "name": "stdin",
     "output_type": "stream",
     "text": [
      "Digite a Nota 1 3\n",
      "Digite a Nota 2 9\n"
     ]
    },
    {
     "name": "stdout",
     "output_type": "stream",
     "text": [
      "A média é: 6.0\n",
      "Aprovado\n"
     ]
    }
   ],
   "source": [
    "Nota1 = float(input(\"Digite a Nota 1\"))\n",
    "Nota2 = float(input(\"Digite a Nota 2\"))\n",
    "#Calculando a média final\n",
    "media = (Nota1 + Nota2) / 2\n",
    "#Mostrando a média\n",
    "print(\"A média é:\", media)\n",
    "if media >= 6:\n",
    "    print(\"Aprovado\")\n",
    "else:\n",
    "    print(\"Reprovado\")"
   ]
  },
  {
   "cell_type": "markdown",
   "id": "242d899e-6799-4008-a4ed-92b1e5f9ef64",
   "metadata": {},
   "source": [
    "# Retornando numeros positivos apenas"
   ]
  },
  {
   "cell_type": "code",
   "execution_count": 30,
   "id": "51f7ed72-792f-4453-9931-5b9409564e51",
   "metadata": {},
   "outputs": [
    {
     "name": "stdin",
     "output_type": "stream",
     "text": [
      "Digite um numero:  5\n"
     ]
    },
    {
     "name": "stdout",
     "output_type": "stream",
     "text": [
      "O numero é positivo\n"
     ]
    }
   ],
   "source": [
    "Numero = int(input(\"Digite um numero: \"))\n",
    "if Numero >=0:\n",
    "    print (\"O numero é positivo\")"
   ]
  },
  {
   "cell_type": "markdown",
   "id": "dc932ee3-9665-4987-83e0-ac9369585bc1",
   "metadata": {},
   "source": [
    "# Adicionando 0.5 pontos à  nota do aluno"
   ]
  },
  {
   "cell_type": "code",
   "execution_count": 41,
   "id": "48f5bd9b-dfe8-44ab-91d2-d26f2044ad6c",
   "metadata": {},
   "outputs": [
    {
     "name": "stdin",
     "output_type": "stream",
     "text": [
      "Digite a nota:  8\n"
     ]
    },
    {
     "name": "stdout",
     "output_type": "stream",
     "text": [
      "Nota Final:  8.5\n"
     ]
    }
   ],
   "source": [
    "nota = float(input(\"Digite a nota: \"))\n",
    "if (nota > 7):\n",
    "    nota = nota + 0.5\n",
    "print(\"Nota Final: \", nota)"
   ]
  },
  {
   "cell_type": "markdown",
   "id": "7d144f11-9e18-4bfc-87cb-bea6605f6e20",
   "metadata": {},
   "source": [
    "# Hortifruti"
   ]
  },
  {
   "cell_type": "code",
   "execution_count": 46,
   "id": "35f0bf2e-b13f-4098-bc36-ee5c13f88e8e",
   "metadata": {},
   "outputs": [
    {
     "name": "stdin",
     "output_type": "stream",
     "text": [
      "Digite o nome da fruta:  banana\n"
     ]
    },
    {
     "name": "stdout",
     "output_type": "stream",
     "text": [
      "O kg da banana é R$ 5,23\n"
     ]
    }
   ],
   "source": [
    "fruta = input(\"Digite o nome da fruta: \")\n",
    "if fruta == \"banana\":\n",
    "    print(\"O kg da banana é R$ 5,23\")\n",
    "elif fruta == \"maça\":\n",
    "    print(\"O kg da maça é R$ 2,10\")\n",
    "elif fruta == \"cereja\":\n",
    "        print(\"O kg da cereja é R$ 58,00\")\n",
    "else:\n",
    "    print (\"Desculpe-nos. No momente a \", fruta, \"esta em falta\")"
   ]
  },
  {
   "cell_type": "code",
   "execution_count": 48,
   "id": "edac7169-059e-4847-a5c4-2b9d79885a53",
   "metadata": {},
   "outputs": [
    {
     "name": "stdin",
     "output_type": "stream",
     "text": [
      "Digite o nome da fruta:  maça\n"
     ]
    },
    {
     "name": "stdout",
     "output_type": "stream",
     "text": [
      "O kg da maça é R$ 2,10\n"
     ]
    }
   ],
   "source": [
    "fruta = input(\"Digite o nome da fruta: \")\n",
    "if fruta == \"banana\":\n",
    "    print(\"O kg da banana é R$ 5,23\")\n",
    "elif fruta == \"maça\":\n",
    "    print(\"O kg da maça é R$ 2,10\")\n",
    "elif fruta == \"cereja\":\n",
    "        print(\"O kg da cereja é R$ 58,00\")\n",
    "else:\n",
    "    print (\"Desculpe-nos. No momente a \", fruta, \"esta em falta\")"
   ]
  },
  {
   "cell_type": "code",
   "execution_count": 50,
   "id": "54f59b94-4127-467b-9557-c1346b17a127",
   "metadata": {},
   "outputs": [
    {
     "name": "stdin",
     "output_type": "stream",
     "text": [
      "Digite o nome da fruta:  cereja\n"
     ]
    },
    {
     "name": "stdout",
     "output_type": "stream",
     "text": [
      "O kg da cereja é R$ 58,00\n"
     ]
    }
   ],
   "source": [
    "fruta = input(\"Digite o nome da fruta: \")\n",
    "if fruta == \"banana\":\n",
    "    print(\"O kg da banana é R$ 5,23\")\n",
    "elif fruta == \"maça\":\n",
    "    print(\"O kg da maça é R$ 2,10\")\n",
    "elif fruta == \"cereja\":\n",
    "        print(\"O kg da cereja é R$ 58,00\")\n",
    "else:\n",
    "    print (\"Desculpe-nos. No momente a \", fruta, \"esta em falta\")"
   ]
  },
  {
   "cell_type": "code",
   "execution_count": 54,
   "id": "421d6fcf-99fc-49e2-b5fe-69bcbaebf7f1",
   "metadata": {},
   "outputs": [
    {
     "name": "stdin",
     "output_type": "stream",
     "text": [
      "Digite o nome da fruta:  abacaxi\n"
     ]
    },
    {
     "name": "stdout",
     "output_type": "stream",
     "text": [
      "Desculpe-nos. No momento a fruta abacaxi esta em falta\n"
     ]
    }
   ],
   "source": [
    "fruta = input(\"Digite o nome da fruta: \")\n",
    "if fruta == \"banana\":\n",
    "    print(\"O kg da banana é R$ 5,23\")\n",
    "elif fruta == \"maça\":\n",
    "    print(\"O kg da maça é R$ 2,10\")\n",
    "elif fruta == \"cereja\":\n",
    "        print(\"O kg da cereja é R$ 58,00\")\n",
    "else:\n",
    "    print (\"Desculpe-nos. No momento a fruta\", fruta, \"esta em falta\")"
   ]
  },
  {
   "cell_type": "markdown",
   "id": "4dcc2783-878c-4bd2-ad55-0051e0cfde27",
   "metadata": {},
   "source": [
    "# Aninhamento de ifs..."
   ]
  },
  {
   "cell_type": "code",
   "execution_count": 57,
   "id": "a1e5027d-232c-4287-be27-aef1bc3eb7bf",
   "metadata": {},
   "outputs": [
    {
     "name": "stdin",
     "output_type": "stream",
     "text": [
      "Entre com um numero:  4\n"
     ]
    },
    {
     "name": "stdout",
     "output_type": "stream",
     "text": [
      "n é par e positivo\n"
     ]
    }
   ],
   "source": [
    "n = int(input(\"Entre com um numero: \"))\n",
    "if (n>=0):\n",
    "    if (n % 2) == 0:\n",
    "        print(\"n é par e positivo\")\n",
    "    else:\n",
    "        print(\"n é impar e positivo\")\n",
    "else:\n",
    "    if (abs(n) % 2 ) ==0:\n",
    "        print(\"n é par e negativo\")\n",
    "    else:\n",
    "        print(\"n é impar e negativo\")"
   ]
  },
  {
   "cell_type": "code",
   "execution_count": 59,
   "id": "105a0a9f-249e-481b-8605-d10a2c740b6e",
   "metadata": {},
   "outputs": [
    {
     "name": "stdin",
     "output_type": "stream",
     "text": [
      "Entre com um numero:  9\n"
     ]
    },
    {
     "name": "stdout",
     "output_type": "stream",
     "text": [
      "n é impar e positivo\n"
     ]
    }
   ],
   "source": [
    "n = int(input(\"Entre com um numero: \"))\n",
    "if (n>=0):\n",
    "    if (n % 2) == 0:\n",
    "        print(\"n é par e positivo\")\n",
    "    else:\n",
    "        print(\"n é impar e positivo\")\n",
    "else:\n",
    "    if (abs(n) % 2 ) ==0:\n",
    "        print(\"n é par e negativo\")\n",
    "    else:\n",
    "        print(\"n é impar e negativo\")"
   ]
  },
  {
   "cell_type": "code",
   "execution_count": 61,
   "id": "5ba6765c-aa6c-461c-816a-4914c6b156b9",
   "metadata": {},
   "outputs": [
    {
     "name": "stdin",
     "output_type": "stream",
     "text": [
      "Entre com um numero:  -111\n"
     ]
    },
    {
     "name": "stdout",
     "output_type": "stream",
     "text": [
      "n é impar e negativo\n"
     ]
    }
   ],
   "source": [
    "n = int(input(\"Entre com um numero: \"))\n",
    "if (n>=0):\n",
    "    if (n % 2) == 0:\n",
    "        print(\"n é par e positivo\")\n",
    "    else:\n",
    "        print(\"n é impar e positivo\")\n",
    "else:\n",
    "    if (abs(n) % 2 ) ==0:\n",
    "        print(\"n é par e negativo\")\n",
    "    else:\n",
    "        print(\"n é impar e negativo\")"
   ]
  },
  {
   "cell_type": "code",
   "execution_count": 65,
   "id": "7512f48b-a175-4aae-a575-025cfa98130f",
   "metadata": {},
   "outputs": [
    {
     "name": "stdin",
     "output_type": "stream",
     "text": [
      "Entre com um numero:  -512\n"
     ]
    },
    {
     "name": "stdout",
     "output_type": "stream",
     "text": [
      "n é par e negativo\n"
     ]
    }
   ],
   "source": [
    "n = int(input(\"Entre com um numero: \"))\n",
    "if (n>=0):\n",
    "    if (n % 2) == 0: # verifica se n é par ou impar\n",
    "        print(\"n é par e positivo\")\n",
    "    else:\n",
    "        print(\"n é impar e positivo\")\n",
    "else:\n",
    "    if (abs(n) % 2 ) ==0: # verifica se n é positivo ou negativo\n",
    "        print(\"n é par e negativo\")\n",
    "    else:\n",
    "        print(\"n é impar e negativo\")"
   ]
  },
  {
   "cell_type": "code",
   "execution_count": null,
   "id": "869c1760-b5cb-4ad8-9a18-b4802e18e06c",
   "metadata": {},
   "outputs": [],
   "source": []
  }
 ],
 "metadata": {
  "kernelspec": {
   "display_name": "Python 3 (ipykernel)",
   "language": "python",
   "name": "python3"
  },
  "language_info": {
   "codemirror_mode": {
    "name": "ipython",
    "version": 3
   },
   "file_extension": ".py",
   "mimetype": "text/x-python",
   "name": "python",
   "nbconvert_exporter": "python",
   "pygments_lexer": "ipython3",
   "version": "3.12.7"
  }
 },
 "nbformat": 4,
 "nbformat_minor": 5
}
