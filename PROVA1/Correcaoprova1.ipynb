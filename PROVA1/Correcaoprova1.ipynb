{
 "cells": [
  {
   "cell_type": "code",
   "execution_count": 3,
   "id": "92107d8d-6e0b-410a-8725-3a05be52478a",
   "metadata": {},
   "outputs": [
    {
     "name": "stdout",
     "output_type": "stream",
     "text": [
      "3\n"
     ]
    }
   ],
   "source": [
    "#Questão 01\n",
    "x=7*3**2%4\n",
    "print (x)"
   ]
  },
  {
   "cell_type": "code",
   "execution_count": null,
   "id": "c8ddc136-893b-4ffd-bde6-24bba0ba34da",
   "metadata": {},
   "outputs": [],
   "source": [
    "A=<um valor logico>\n",
    "A=<um valor logico>\n",
    "A=<um valor logico>\n",
    "#\n",
    "if (A):\n",
    "    C1\n",
    "else"
   ]
  },
  {
   "cell_type": "code",
   "execution_count": null,
   "id": "5771e16c-418c-4506-8be2-78c5a48fc266",
   "metadata": {},
   "outputs": [],
   "source": [
    "#Questão 6\n",
    "# 78 decimal para binário, octal e hexadecimal\n",
    "# binário\n",
    "#Divisões sucessivas por 2\n",
    "#78/2 = 39/2 = 19/2 = 9/2 = 4/2 = 2/2 =1\n",
    "# 0      1       1     1     0     0   1\n",
    "# Octal\n",
    "#0000 - 0\n",
    "#0001 - 1\n",
    "#0010 - 2\n",
    "#0011 - 3\n",
    "#0100 - 4 \n",
    "#0101 - 5\n",
    "#0110 - 6\n",
    "#0111 - 7 ((((7))))\n",
    "#1000 - 8\n",
    "#1001 - 9\n",
    "#1010 - A\n",
    "#1011 - B\n",
    "#1100 - C\n",
    "#1101 - D\n",
    "#1110 - E\n",
    "#1111 - F\n"
   ]
  },
  {
   "cell_type": "code",
   "execution_count": null,
   "id": "819824a4-a295-4c8a-8fd9-6e416fa92aa6",
   "metadata": {},
   "outputs": [],
   "source": [
    "#Questão 7\n",
    "#conversão de binário para decimal\n",
    "# 1 1 0 1 0 1 \n",
    "# 2**5 + 2**4 + 0 + 2**2 + 0 + 2**0\n",
    "# 32 + 16 + 0 + 4 + 1\n",
    "# 53 °C"
   ]
  },
  {
   "cell_type": "code",
   "execution_count": 12,
   "id": "e1529d27-9571-4c37-aa81-4f4e465c3804",
   "metadata": {},
   "outputs": [
    {
     "ename": "SyntaxError",
     "evalue": "Missing parentheses in call to 'print'. Did you mean print(...)? (3759334855.py, line 8)",
     "output_type": "error",
     "traceback": [
      "\u001b[1;36m  Cell \u001b[1;32mIn[12], line 8\u001b[1;36m\u001b[0m\n\u001b[1;33m    print y\u001b[0m\n\u001b[1;37m    ^\u001b[0m\n\u001b[1;31mSyntaxError\u001b[0m\u001b[1;31m:\u001b[0m Missing parentheses in call to 'print'. Did you mean print(...)?\n"
     ]
    }
   ],
   "source": [
    "#Questão 5\n",
    "x=int(input())\n",
    "y=int(input())\n",
    "\n",
    "x= x%y\n",
    "x=x%y\n",
    "y=y%x\n",
    "print y\n"
   ]
  },
  {
   "cell_type": "code",
   "execution_count": 16,
   "id": "45133033-3884-4cb7-8b37-cd2e47b7b9de",
   "metadata": {},
   "outputs": [
    {
     "name": "stdout",
     "output_type": "stream",
     "text": [
      "18\n",
      "19\n",
      "20\n",
      "21\n",
      "22\n"
     ]
    }
   ],
   "source": [
    "#questão 3\n",
    "x=range(15,30)\n",
    "x=list(x)\n",
    "for w in x[3:8]:\n",
    "    print (w)"
   ]
  },
  {
   "cell_type": "code",
   "execution_count": 18,
   "id": "cab8ea94-b5a8-40c4-b1f1-06235be9fb77",
   "metadata": {},
   "outputs": [
    {
     "name": "stdout",
     "output_type": "stream",
     "text": [
      "6\n"
     ]
    }
   ],
   "source": [
    "#Questão 11\n",
    "a = 3\n",
    "b = a*2\n",
    "a,b = b,a\n",
    "\n",
    "print (a)\n"
   ]
  },
  {
   "cell_type": "code",
   "execution_count": 23,
   "id": "116377a9-c915-43ad-8d03-4220d7eec839",
   "metadata": {},
   "outputs": [
    {
     "name": "stdout",
     "output_type": "stream",
     "text": [
      "5050\n"
     ]
    }
   ],
   "source": [
    "#questão 4\n",
    "soma = 0\n",
    "for i in range (1,101):\n",
    "    soma+=i\n",
    "print (soma)"
   ]
  },
  {
   "cell_type": "code",
   "execution_count": 25,
   "id": "03120be0-1973-4d9d-91a0-c186cba7a333",
   "metadata": {},
   "outputs": [
    {
     "name": "stdout",
     "output_type": "stream",
     "text": [
      "True\n"
     ]
    }
   ],
   "source": [
    "#Questão 14\n",
    "\n",
    "x=1\n",
    "x=x==x\n",
    "print (x)\n"
   ]
  },
  {
   "cell_type": "code",
   "execution_count": 34,
   "id": "ba6ed5d2-94b2-4cbb-9fab-2cfdbe205a4b",
   "metadata": {},
   "outputs": [
    {
     "name": "stdout",
     "output_type": "stream",
     "text": [
      "3\n",
      "6\n",
      "10\n",
      "17\n",
      "28\n"
     ]
    }
   ],
   "source": [
    "#Questão 8\n",
    "a,b=0,2\n",
    "while b<20:\n",
    "    a,b=b,a+b+1\n",
    "    print (b)\n"
   ]
  },
  {
   "cell_type": "code",
   "execution_count": null,
   "id": "b27ba796-b0c9-42ef-a481-ccf5fe840c79",
   "metadata": {},
   "outputs": [],
   "source": []
  },
  {
   "cell_type": "code",
   "execution_count": null,
   "id": "ec0bbe3e-4f1b-43c7-b70a-1bb8f43363a1",
   "metadata": {},
   "outputs": [],
   "source": []
  }
 ],
 "metadata": {
  "kernelspec": {
   "display_name": "Python [conda env:base] *",
   "language": "python",
   "name": "conda-base-py"
  },
  "language_info": {
   "codemirror_mode": {
    "name": "ipython",
    "version": 3
   },
   "file_extension": ".py",
   "mimetype": "text/x-python",
   "name": "python",
   "nbconvert_exporter": "python",
   "pygments_lexer": "ipython3",
   "version": "3.12.7"
  }
 },
 "nbformat": 4,
 "nbformat_minor": 5
}
