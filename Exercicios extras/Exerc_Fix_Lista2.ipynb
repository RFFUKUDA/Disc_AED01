{
 "cells": [
  {
   "cell_type": "markdown",
   "id": "7dd48ff3-d3bf-4d31-ac69-c107e2fee5aa",
   "metadata": {},
   "source": [
    "### LOOPS DE REPETIÇÃO"
   ]
  },
  {
   "cell_type": "code",
   "execution_count": 3,
   "id": "9ae3f2ea-e203-4c50-b424-ac815388d86f",
   "metadata": {},
   "outputs": [
    {
     "name": "stdin",
     "output_type": "stream",
     "text": [
      "Por favor, digite uma nota entre 0,0 e 10:  -5\n"
     ]
    },
    {
     "name": "stdout",
     "output_type": "stream",
     "text": [
      "Nota inválida!\n",
      "Por favor, digite novamente uma nota entre 0 e 10: \n"
     ]
    },
    {
     "name": "stdin",
     "output_type": "stream",
     "text": [
      "Por favor, digite uma nota entre 0,0 e 10:  5\n"
     ]
    },
    {
     "name": "stdout",
     "output_type": "stream",
     "text": [
      "A nota digitada foi  5.0\n"
     ]
    }
   ],
   "source": [
    "# Exercício 1\n",
    "#Faça um programa que peça uma nota, entre zero e dez.\n",
    "#Mostre uma mensagem caso o valor seja inválido e continue pedindo até que o usuário informe um valor válido.\n",
    "\n",
    "# Se a nota for entre 0 e 10 interrompemos o loop\n",
    "Nota = 11 # Atribuido um valor fora do intervalo entre 0 e 10 para iniciar o loop\n",
    "while Nota < 0 or Nota > 10:\n",
    "    Nota = float(input(\"Por favor, digite uma nota entre 0,0 e 10: \"))\n",
    "    if (Nota<0) or (Nota>10):\n",
    "        print (\"Nota inválida!\")\n",
    "        print (\"Por favor, digite novamente uma nota entre 0 e 10: \")\n",
    "else:\n",
    "    print (\"A nota digitada foi \",Nota)        "
   ]
  },
  {
   "cell_type": "code",
   "execution_count": 5,
   "id": "e2c48a1e-c391-4e2f-93ea-7564037d8ca5",
   "metadata": {},
   "outputs": [
    {
     "name": "stdin",
     "output_type": "stream",
     "text": [
      "Digite seu nome de usuário:  Renato\n",
      "Digite sua senha:  Renato\n"
     ]
    },
    {
     "name": "stdout",
     "output_type": "stream",
     "text": [
      "Erro!!!\n",
      "A senha não pode ser igual ao nome de usuário\n",
      "Por favor, tente novamente.\n"
     ]
    },
    {
     "name": "stdin",
     "output_type": "stream",
     "text": [
      "Digite seu nome de usuário:  Renato\n",
      "Digite sua senha:  123456\n"
     ]
    },
    {
     "name": "stdout",
     "output_type": "stream",
     "text": [
      "Login bem-sucedido!\n",
      "Nome de usuário: Renato\n",
      "Senha: ******\n"
     ]
    }
   ],
   "source": [
    "# Exercício 2\n",
    "# Faça um programa que leia um nome de usuário e a sua senha e não aceite a senha igual ao nome do usuário,\n",
    "# mostrando uma mensagem de erro e voltando a pedir as informações.\n",
    "while True:\n",
    "    User_name = input(\"Digite seu nome de usuário: \")\n",
    "    Password = input(\"Digite sua senha: \")\n",
    "\n",
    "    if Password == User_name:\n",
    "        print(\"Erro!!!\")\n",
    "        print (\"A senha não pode ser igual ao nome de usuário\")\n",
    "        print (\"Por favor, tente novamente.\")\n",
    "    else:\n",
    "        print(\"Login bem-sucedido!\")\n",
    "        print(f\"Nome de usuário: {User_name}\")\n",
    "        print(f\"Senha: {'*' * len(Password)}\") # Mostra a senha mascarada\n",
    "        break # Sai do loop quando o login é bem-sucedido"
   ]
  },
  {
   "cell_type": "code",
   "execution_count": 19,
   "id": "4801d55f-e9db-4429-90c1-504ebf887645",
   "metadata": {},
   "outputs": [
    {
     "name": "stdin",
     "output_type": "stream",
     "text": [
      "Digite seu nome (deve ter mais do que 3 caracteres):  Renato\n",
      "Digite sua idade (entre 0 e 150 anos):  53\n",
      "Digite seu salário (maior que Zero):  500\n",
      "Digite seu sexo Feminino(f) ou Masculino(M):  M\n",
      "Digite seu estado civil (s)Solteiro (c)Casado (v)Viuvo (d)Divorciado:  C\n"
     ]
    },
    {
     "name": "stdout",
     "output_type": "stream",
     "text": [
      "Renato\n",
      "53\n",
      "500.0\n",
      "m\n",
      "c\n"
     ]
    }
   ],
   "source": [
    "# Exercício 3\n",
    "#Faça um programa que leia e valide as seguintes informações:\n",
    "#a. Nome: maior que 3 caracteres;\n",
    "#b. Idade: entre 0 e 150;\n",
    "#c. Salário: maior que zero;\n",
    "#d. Sexo: 'f' ou 'm';\n",
    "#e. Estado Civil: 's', 'c', 'v', 'd';\n",
    "\n",
    "# Validando o nome\n",
    "while True:\n",
    "    nome = input(\"Digite seu nome (deve ter mais do que 3 caracteres): \")\n",
    "    if (len(nome) > 3):\n",
    "        break\n",
    "    else:\n",
    "        print(\"Nome Inválido!\")\n",
    "        print (\"O nome deve ter do que 3 caracteres!\")\n",
    "# Validando a idade\n",
    "while True:\n",
    "    try:\n",
    "        idade = int(input(\"Digite sua idade (entre 0 e 150 anos): \"))\n",
    "        if 0 < idade <= 150:\n",
    "            break\n",
    "        else:\n",
    "            print(\"Idade Inválida!\")\n",
    "            print (\"A idade deve estar entre 0 e 150 anos!\")\n",
    "    except ValueError:\n",
    "        print(\"Entrada Inválida!\")\n",
    "        print (\"Por favor digite um numero para a idade!\")\n",
    "# Validando o salário\n",
    "while True:\n",
    "    try:\n",
    "        salario = float(input(\"Digite seu salário (maior que Zero): \"))\n",
    "        if salario>0:\n",
    "            break\n",
    "        else:\n",
    "            print(\"Salário Inválido!\")\n",
    "            print (\"O salário informado deve ser maior que Zero!\")\n",
    "    except ValueError:\n",
    "        print(\"Entrada Inválida!\")\n",
    "        print (\"Por favor digite valores numériocs para o salário!\")\n",
    "# Validando genero\n",
    "while True:\n",
    "    sexo = input(\"Digite seu sexo Feminino(f) ou Masculino(M): \").lower()\n",
    "    if sexo in ('f','m'):\n",
    "        break\n",
    "    else:\n",
    "        print(\"Sexo Inválido!\")\n",
    "        print (\"Digite (f)Feminino ou (m)Masculino!\")\n",
    "# Validando estado civil\n",
    "while True:\n",
    "    estado_civil = input(\"Digite seu estado civil (s)Solteiro (c)Casado (v)Viuvo (d)Divorciado: \").lower()\n",
    "    if estado_civil in ('c','s','v','d'):\n",
    "        break\n",
    "    else:\n",
    "        print(\"Estado civil Inválido!\")\n",
    "        print (\"Digite (s)Solteiro / (c)Casado / (v)Viuvo / (d)Divorciado\")\n",
    "# Exibindo os dados validados\n",
    "print(nome)\n",
    "print(idade)\n",
    "print(salario)\n",
    "print(sexo)\n",
    "print(estado_civil)"
   ]
  },
  {
   "cell_type": "code",
   "execution_count": 21,
   "id": "39cd3dc5-8b87-4bd5-8e26-26abb336d522",
   "metadata": {},
   "outputs": [
    {
     "name": "stdout",
     "output_type": "stream",
     "text": [
      "A população do país A (515,033) ultrapassará ou igualará a população do país B (510,964) em 63 anos.\n"
     ]
    }
   ],
   "source": [
    "#Exercício 4\n",
    "#Supondo que a população de um país A seja da ordem de 80000 habitantes com uma taxa anual de crescimento de 3% e que\n",
    "#a população de B seja 200000 habitantes com uma taxa de crescimento de 1.5%.\n",
    "# Faça um programa que calcule e escreva o número de anos necessários para que a população do país A ultrapasse ou iguale a população do país B,\n",
    "# mantidas as taxas de crescimento.\n",
    "\n",
    "# Dados iniciais\n",
    "populacao_a = 80000\n",
    "cresc_tx_a = 0.03  # 3%\n",
    "populacao_b = 200000\n",
    "cresc_tx_b = 0.015 # 1.5%\n",
    "# fixando o inicio da contagem em anos\n",
    "anos = 0\n",
    "# Loop enquanto a população de A for menor que a população de B\n",
    "while populacao_a < populacao_b:\n",
    "    populacao_a *= (1 + cresc_tx_a)  # Aumenta a população A\n",
    "    populacao_b *= (1 + cresc_tx_b)  # Aumenta a população B\n",
    "    anos += 1 # Incrementa o número de anos\n",
    "# Resultado\n",
    "print(f\"A população do país A ({int(populacao_a):,}) ultrapassará ou igualará a população do país B ({int(populacao_b):,}) em {anos} anos.\")\n"
   ]
  },
  {
   "cell_type": "code",
   "execution_count": 23,
   "id": "953db7b4-a11b-424d-89b9-6a22086bcacb",
   "metadata": {},
   "outputs": [
    {
     "name": "stdout",
     "output_type": "stream",
     "text": [
      "Por favor, digite 5 números:\n"
     ]
    },
    {
     "name": "stdin",
     "output_type": "stream",
     "text": [
      "Digite o 1º número:  25\n",
      "Digite o 2º número:  26\n",
      "Digite o 3º número:  28\n",
      "Digite o 4º número:  26\n",
      "Digite o 5º número:  26\n"
     ]
    },
    {
     "name": "stdout",
     "output_type": "stream",
     "text": [
      "\n",
      "--- Resultados ---\n",
      "A soma dos números é: 131.0\n",
      "A média dos números é: 26.2\n"
     ]
    }
   ],
   "source": [
    "#Exercício 5\n",
    "#Faça um programa que leia 5 números e informe a soma e a média dos números.\n",
    "\n",
    "#inicio da contagem da entrada de 5 numeros\n",
    "soma = 0\n",
    "# definição da quantidade de numeros a serem informados\n",
    "qt_numeros = 5 \n",
    "print(f\"Por favor, digite {qt_numeros} números:\")\n",
    "\n",
    "for i in range(qt_numeros):\n",
    "    while True:\n",
    "        try:\n",
    "            numero = float(input(f\"Digite o {i + 1}º número: \"))\n",
    "            soma += numero # Adiciona o número lido à soma\n",
    "            break # Sai do loop interno se o número for válido\n",
    "        except ValueError:\n",
    "            print(\"Entrada inválida. Por favor, digite um número válido.\")\n",
    "# Calculo da média\n",
    "media = soma / qt_numeros \n",
    "\n",
    "print(f\"\\n--- Resultados ---\")\n",
    "print(f\"A soma dos números é: {soma}\")\n",
    "print(f\"A média dos números é: {media}\")"
   ]
  },
  {
   "cell_type": "code",
   "execution_count": 26,
   "id": "a7f881eb-4711-4291-b882-e9f17e43f9bb",
   "metadata": {},
   "outputs": [
    {
     "name": "stdin",
     "output_type": "stream",
     "text": [
      "Digite qual numero deseja ver a tabuada (entre 0 e 10):  6\n"
     ]
    },
    {
     "name": "stdout",
     "output_type": "stream",
     "text": [
      "\n",
      "--- Tabuada de 6 ---\n",
      "6 x 1 = 6\n",
      "6 x 2 = 12\n",
      "6 x 3 = 18\n",
      "6 x 4 = 24\n",
      "6 x 5 = 30\n",
      "6 x 6 = 36\n",
      "6 x 7 = 42\n",
      "6 x 8 = 48\n",
      "6 x 9 = 54\n",
      "6 x 10 = 60\n"
     ]
    }
   ],
   "source": [
    "#Exercício 6\n",
    "# Desenvolva um gerador de tabuada, capaz de gerar a tabuada de qualquer número inteiro entre 1 a 10.\n",
    "# O usuário deve informar de qual numero ele deseja ver a tabuada.\n",
    "# A saída deve ser conforme o exemplo abaixo:\n",
    "# Tabuada de 5:\n",
    "# 5 X 1 = 5\n",
    "# 5 X 2 = 10\n",
    "# ...\n",
    "# 5 X 10 = 50\n",
    "\n",
    "# Entrando com o valor desejado da tabuada\n",
    "while True:\n",
    "    try:\n",
    "        numero = int(input(\"Digite qual numero deseja ver a tabuada (entre 0 e 10): \"))\n",
    "        if 0 < numero <= 10:\n",
    "            break\n",
    "        else:\n",
    "            print(\"Numero fora do intervalo permitido!\")\n",
    "            print (\"O numero deve estar entre 0 e 10!\")\n",
    "    except ValueError:\n",
    "        print(\"Entrada Inválida!\")\n",
    "        print (\"Por favor digite um numero inteiro!\")\n",
    "\n",
    "print(f\"\\n--- Tabuada de {numero} ---\")\n",
    "for i in range(1, 11): # Loop de 1 a 10\n",
    "    resultado = numero * i\n",
    "    print(f\"{numero} x {i} = {resultado}\") \n"
   ]
  },
  {
   "cell_type": "code",
   "execution_count": 28,
   "id": "ce5a0812-f324-4dc5-b1d6-f15f16c6ef16",
   "metadata": {},
   "outputs": [
    {
     "name": "stdin",
     "output_type": "stream",
     "text": [
      "Digite o valor de 'n' desejado:  10\n"
     ]
    },
    {
     "name": "stdout",
     "output_type": "stream",
     "text": [
      "\n",
      "--- Sequência Fibonacci para o valor 10 informado ---\n",
      "1\n",
      "1\n",
      "2\n",
      "3\n",
      "5\n",
      "8\n",
      "13\n",
      "21\n",
      "34\n",
      "55\n"
     ]
    }
   ],
   "source": [
    "# Exercício 7\n",
    "#A série de Fibonacci é formada pela seqüência 1,1,2,3,5,8,13,21,34,55,...\n",
    "# Faça um programa capaz de gerar a série até o n−ésimo termo.\n",
    "\n",
    "# Entrando com o valor \"n\" desejado\n",
    "while True:\n",
    "    try:\n",
    "        n = int(input(\"Digite o valor de 'n' desejado: \"))\n",
    "        if n > 0:\n",
    "            break\n",
    "        else:\n",
    "            print(\"Numero fora do intervalo permitido!\")\n",
    "            print (\"O numero deve ser maior que Zero!\")\n",
    "    except ValueError:\n",
    "        print(\"Entrada Inválida!\")\n",
    "        print (\"Por favor digite um numero inteiro!\")\n",
    "# Termos iniciais\n",
    "a, b = 1, 1\n",
    "print(f\"\\n--- Sequência Fibonacci para o valor {n} informado ---\")\n",
    "\n",
    "if n==1:\n",
    "    print (a)\n",
    "elif n==2:\n",
    "    print (a)\n",
    "    print (b)\n",
    "else:\n",
    "    print (a)\n",
    "    print (b)\n",
    "    # Calculando a sequencia\n",
    "    for _ in range (n-2):\n",
    "        prox_termo = a+b\n",
    "        print (prox_termo)\n",
    "        a=b\n",
    "        b = prox_termo\n"
   ]
  },
  {
   "cell_type": "code",
   "execution_count": 38,
   "id": "55bb490b-50b8-44dc-9e83-bb957abfd455",
   "metadata": {},
   "outputs": [
    {
     "name": "stdin",
     "output_type": "stream",
     "text": [
      "Quantas notas você deseja calcular a média?  5\n"
     ]
    },
    {
     "name": "stdout",
     "output_type": "stream",
     "text": [
      "\n",
      "--- Digite suas 5 notas ---\n"
     ]
    },
    {
     "name": "stdin",
     "output_type": "stream",
     "text": [
      "Digite a 1ª nota:  10\n",
      "Digite a 2ª nota:  9\n",
      "Digite a 3ª nota:  10\n",
      "Digite a 4ª nota:  9\n",
      "Digite a 5ª nota:  10\n"
     ]
    },
    {
     "name": "stdout",
     "output_type": "stream",
     "text": [
      "\n",
      "--- Resultado ---\n",
      "A média aritmética das 5 notas é: 9.60\n"
     ]
    }
   ],
   "source": [
    "# Exercício 8\n",
    "# Faça um programa que calcule o mostre a média aritmética de N notas.\n",
    "\n",
    "\n",
    "# definição da quantidade de Notas a serem informados\n",
    "while True:\n",
    "    try:\n",
    "        quantidade_notas = int(input(\"Quantas notas você deseja calcular a média? \"))\n",
    "        if quantidade_notas > 0:\n",
    "            break\n",
    "        else:\n",
    "            print(\"Por favor, digite um número positivo para a quantidade de notas.\")\n",
    "    except ValueError:\n",
    "        print(\"Entrada inválida! Por favor, digite um número inteiro.\")\n",
    "# Inicializa a variável para somar as notas\n",
    "soma_das_notas = 0 \n",
    "\n",
    "print(f\"\\n--- Digite suas {quantidade_notas} notas ---\")\n",
    "\n",
    "for i in range(quantidade_notas):\n",
    "    while True:\n",
    "        try:\n",
    "            nota = float(input(f\"Digite a {i + 1}ª nota: \"))\n",
    "            if 0 <= nota <= 10: # Supondo notas de 0 a 10, você pode ajustar este intervalo\n",
    "                soma_das_notas += nota\n",
    "                break\n",
    "            else:\n",
    "                print(\"Nota inválida! Por favor, digite uma nota entre 0 e 10.\")\n",
    "        except ValueError:\n",
    "            print(\"Entrada inválida! Por favor, digite um número para a nota.\")\n",
    "# Evita divisão por zero se, por algum motivo, quantidade_notas fosse 0\n",
    "if quantidade_notas > 0: \n",
    "    media = soma_das_notas / quantidade_notas\n",
    "    print(f\"\\n--- Resultado ---\")\n",
    "  # print(f\"A soma das notas é: {soma_das_notas:.2f}\")\n",
    "    print(f\"A média aritmética das {quantidade_notas} notas é: {media:.2f}\")\n",
    "else:\n",
    "    print(\"Nenhuma nota foi inserida para calcular a média.\")"
   ]
  },
  {
   "cell_type": "code",
   "execution_count": 39,
   "id": "65d81d3d-57ed-44f9-8728-d1a5f641fbcd",
   "metadata": {},
   "outputs": [
    {
     "name": "stdout",
     "output_type": "stream",
     "text": [
      "Lojas Quase Dois - Tabela de preços\n",
      "-----------------------------------\n",
      " 1 - R$ 1.99\n",
      " 2 - R$ 3.98\n",
      " 3 - R$ 5.97\n",
      " 4 - R$ 7.96\n",
      " 5 - R$ 9.95\n",
      " 6 - R$ 11.94\n",
      " 7 - R$ 13.93\n",
      " 8 - R$ 15.92\n",
      " 9 - R$ 17.91\n",
      "10 - R$ 19.90\n",
      "11 - R$ 21.89\n",
      "12 - R$ 23.88\n",
      "13 - R$ 25.87\n",
      "14 - R$ 27.86\n",
      "15 - R$ 29.85\n",
      "16 - R$ 31.84\n",
      "17 - R$ 33.83\n",
      "18 - R$ 35.82\n",
      "19 - R$ 37.81\n",
      "20 - R$ 39.80\n",
      "21 - R$ 41.79\n",
      "22 - R$ 43.78\n",
      "23 - R$ 45.77\n",
      "24 - R$ 47.76\n",
      "25 - R$ 49.75\n",
      "26 - R$ 51.74\n",
      "27 - R$ 53.73\n",
      "28 - R$ 55.72\n",
      "29 - R$ 57.71\n",
      "30 - R$ 59.70\n",
      "31 - R$ 61.69\n",
      "32 - R$ 63.68\n",
      "33 - R$ 65.67\n",
      "34 - R$ 67.66\n",
      "35 - R$ 69.65\n",
      "36 - R$ 71.64\n",
      "37 - R$ 73.63\n",
      "38 - R$ 75.62\n",
      "39 - R$ 77.61\n",
      "40 - R$ 79.60\n",
      "41 - R$ 81.59\n",
      "42 - R$ 83.58\n",
      "43 - R$ 85.57\n",
      "44 - R$ 87.56\n",
      "45 - R$ 89.55\n",
      "46 - R$ 91.54\n",
      "47 - R$ 93.53\n",
      "48 - R$ 95.52\n",
      "49 - R$ 97.51\n",
      "50 - R$ 99.50\n",
      "-----------------------------------\n"
     ]
    }
   ],
   "source": [
    "# Exercício 9\n",
    "# O Sr. Manoel Joaquim possui uma grande loja de artigos de R$ 1,99, com cerca de 10 caixas.\n",
    "# Para agilizar o cálculo de quanto cada cliente deve pagar ele desenvolveu um tabela que contém\n",
    "# o número de itens que o cliente comprou e ao lado o valor da conta.\n",
    "# Desta forma a atendente do caixa precisa apenas contar quantos itens o cliente está levando e olhar na tabela de preços.\n",
    "# Você foi contratado para desenvolver o programa que monta esta tabela de preços,\n",
    "# que conterá os preços de 1 até 50 produtos, conforme o exemplo abaixo:\n",
    "# Lojas Quase Dois - Tabela de preços\n",
    "# 1 - R$ 1.99\n",
    "# 2 - R$ 3.98\n",
    "# ...\n",
    "# 50 - R$ 99.50\n",
    "\n",
    "# dados iniciais\n",
    "preco_unitario = 1.99\n",
    "quantidade_maxima = 50\n",
    "\n",
    "print(\"Lojas Quase Dois - Tabela de preços\")\n",
    "print(\"-\" * 35) # Linha para separar o cabeçalho\n",
    "\n",
    "for quantidade in range(1, quantidade_maxima + 1):\n",
    "    valor_total = quantidade * preco_unitario\n",
    "    # formatando o número para ter sempre duas casas decimais\n",
    "    print(f\"{quantidade:2} - R$ {valor_total:.2f}\")\n",
    "\n",
    "print(\"-\" * 35) # Linha para finalizar a tabela"
   ]
  },
  {
   "cell_type": "code",
   "execution_count": 41,
   "id": "c97fd577-c10b-4644-a765-40d787d9a05a",
   "metadata": {},
   "outputs": [
    {
     "name": "stdout",
     "output_type": "stream",
     "text": [
      "--- Análise de Temperaturas ---\n",
      "Digite as temperaturas uma por uma.\n",
      "Para finalizar, digite 'f'.\n"
     ]
    },
    {
     "name": "stdin",
     "output_type": "stream",
     "text": [
      "Digite a temperatura (ou 'f' para finalizar):  5\n",
      "Digite a temperatura (ou 'f' para finalizar):  15\n",
      "Digite a temperatura (ou 'f' para finalizar):  16\n",
      "Digite a temperatura (ou 'f' para finalizar):  17\n",
      "Digite a temperatura (ou 'f' para finalizar):  18\n",
      "Digite a temperatura (ou 'f' para finalizar):  13\n",
      "Digite a temperatura (ou 'f' para finalizar):  19\n",
      "Digite a temperatura (ou 'f' para finalizar):  18\n",
      "Digite a temperatura (ou 'f' para finalizar):  17\n",
      "Digite a temperatura (ou 'f' para finalizar):  22\n",
      "Digite a temperatura (ou 'f' para finalizar):  23\n",
      "Digite a temperatura (ou 'f' para finalizar):  22\n",
      "Digite a temperatura (ou 'f' para finalizar):  25\n",
      "Digite a temperatura (ou 'f' para finalizar):  26\n",
      "Digite a temperatura (ou 'f' para finalizar):  25\n",
      "Digite a temperatura (ou 'f' para finalizar):  24\n",
      "Digite a temperatura (ou 'f' para finalizar):  23\n",
      "Digite a temperatura (ou 'f' para finalizar):  28\n",
      "Digite a temperatura (ou 'f' para finalizar):  f\n"
     ]
    },
    {
     "name": "stdout",
     "output_type": "stream",
     "text": [
      "\n",
      "--- Resultados da Análise ---\n",
      "Menor temperatura informada: 5.00°C\n",
      "Maior temperatura informada: 28.00°C\n",
      "Média das temperaturas: 19.78°C\n"
     ]
    }
   ],
   "source": [
    "# Exercício 10\n",
    "# O Departamento Estadual de Meteorologia lhe contratou para desenvolver um programa que leia as um conjunto indeterminado de temperaturas,\n",
    "#e informe ao final a menor e a maior temperaturas informadas, bem como a média das temperaturas.\n",
    "\n",
    "# Lista para armazenar todas as temperaturas digitadas\n",
    "temperaturas = [] \n",
    "\n",
    "print(\"--- Análise de Temperaturas ---\")\n",
    "print(\"Digite as temperaturas uma por uma.\")\n",
    "print(\"Para finalizar, digite 'f'.\")\n",
    "\n",
    "while True:\n",
    "    try:\n",
    "        temp_input = input(f\"Digite a temperatura (ou 'f' para finalizar): \").lower()\n",
    "\n",
    "        # Verifica se o usuário quer finalizar\n",
    "        if temp_input == 'f':\n",
    "            if not temperaturas: # Verifica se a lista está vazia\n",
    "                print(\"Nenhuma temperatura foi inserida.\")\n",
    "            break # Sai do loop principal\n",
    "\n",
    "        temperatura = float(temp_input) # Tenta converter a entrada para um número decimal\n",
    "        temperaturas.append(temperatura) # Adiciona a temperatura à lista\n",
    "\n",
    "    except ValueError:\n",
    "        print(\"Entrada inválida! Por favor, digite um número ou 'f' para finalizar.\")\n",
    "\n",
    "# Processa os dados, se houver temperaturas\n",
    "if temperaturas: # Equivalente a 'if len(temperaturas) > 0:'\n",
    "    menor_temperatura = min(temperaturas)\n",
    "    maior_temperatura = max(temperaturas)\n",
    "    media_temperaturas = sum(temperaturas) / len(temperaturas)\n",
    "\n",
    "    print(\"\\n--- Resultados da Análise ---\")\n",
    "    print(f\"Menor temperatura informada: {menor_temperatura:.2f}°C\")\n",
    "    print(f\"Maior temperatura informada: {maior_temperatura:.2f}°C\")\n",
    "    print(f\"Média das temperaturas: {media_temperaturas:.2f}°C\")"
   ]
  },
  {
   "cell_type": "code",
   "execution_count": null,
   "id": "2c83d39d-3bae-4ec2-ae3f-8cf01a67a1cf",
   "metadata": {},
   "outputs": [],
   "source": []
  }
 ],
 "metadata": {
  "kernelspec": {
   "display_name": "Python 3 (ipykernel)",
   "language": "python",
   "name": "python3"
  },
  "language_info": {
   "codemirror_mode": {
    "name": "ipython",
    "version": 3
   },
   "file_extension": ".py",
   "mimetype": "text/x-python",
   "name": "python",
   "nbconvert_exporter": "python",
   "pygments_lexer": "ipython3",
   "version": "3.12.7"
  }
 },
 "nbformat": 4,
 "nbformat_minor": 5
}
