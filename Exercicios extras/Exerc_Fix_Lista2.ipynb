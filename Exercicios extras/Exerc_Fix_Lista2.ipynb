{
 "cells": [
  {
   "cell_type": "markdown",
   "id": "7dd48ff3-d3bf-4d31-ac69-c107e2fee5aa",
   "metadata": {},
   "source": [
    "### LOOPS DE REPETIÇÃO"
   ]
  },
  {
   "cell_type": "code",
   "execution_count": 1,
   "id": "9ae3f2ea-e203-4c50-b424-ac815388d86f",
   "metadata": {},
   "outputs": [
    {
     "name": "stdin",
     "output_type": "stream",
     "text": [
      "Por favor, digite uma nota entre 0 e 10:  -5\n"
     ]
    },
    {
     "name": "stdout",
     "output_type": "stream",
     "text": [
      "Nota inválida !Por favor, digite novamente uma nota entre 0 e 10: \n"
     ]
    },
    {
     "name": "stdin",
     "output_type": "stream",
     "text": [
      "Por favor, digite uma nota entre 0 e 10:  5\n"
     ]
    },
    {
     "name": "stdout",
     "output_type": "stream",
     "text": [
      "A nota digitada foi  5\n"
     ]
    }
   ],
   "source": [
    "# Exercício 1\n",
    "#Faça um programa que peça uma nota, entre zero e dez.\n",
    "#Mostre uma mensagem caso o valor seja inválido e continue pedindo até que o usuário informe um valor válido.\n",
    "\n",
    "# Se a nota for entre 0 e 10 interrompemos o loop\n",
    "Nota = 11 # Atribuido um valor fora do intervalo entre 0 e 10 para iniciar o loop\n",
    "while Nota < 0 or Nota > 10:\n",
    "    Nota = int(input(\"Por favor, digite uma nota entre 0 e 10: \"))\n",
    "    if (Nota<0) or (Nota>10):\n",
    "        print (\"Nota inválida !Por favor, digite novamente uma nota entre 0 e 10: \")\n",
    "else:\n",
    "    print (\"A nota digitada foi \",Nota)        "
   ]
  },
  {
   "cell_type": "code",
   "execution_count": 5,
   "id": "e2c48a1e-c391-4e2f-93ea-7564037d8ca5",
   "metadata": {},
   "outputs": [
    {
     "name": "stdin",
     "output_type": "stream",
     "text": [
      "Informe o nome do usuário:  Renato\n",
      "Informe a senha de 6 digitos:  Renato\n"
     ]
    },
    {
     "name": "stdout",
     "output_type": "stream",
     "text": [
      " A senha não pode ser igual ao nome do usuário!\n",
      " digite novamente...\n"
     ]
    },
    {
     "name": "stdin",
     "output_type": "stream",
     "text": [
      "Informe o nome do usuário:  Renato\n",
      "Informe a senha de 6 digitos:  123456\n"
     ]
    },
    {
     "name": "stdout",
     "output_type": "stream",
     "text": [
      "Nome do Usuário:  Renato\n",
      "Senha: ******\n"
     ]
    }
   ],
   "source": [
    "# Exercício 2\n",
    "# Faça um programa que leia um nome de usuário e a sua senha e não aceite a senha igual ao nome do usuário,\n",
    "# mostrando uma mensagem de erro e voltando a pedir as informações.\n",
    "user = psw = ''\n",
    "while (user == psw):\n",
    "    user = input(\"Informe o nome do usuário: \")\n",
    "    psw = input(\"Informe a senha de 6 digitos: \")\n",
    "    if (user==psw):\n",
    "        print (\" A senha não pode ser igual ao nome do usuário!\")\n",
    "        print (\" digite novamente...\")\n",
    "else:\n",
    "    print (\"Nome do Usuário: \",user)\n",
    "    print (\"Senha: ******\")"
   ]
  },
  {
   "cell_type": "code",
   "execution_count": 7,
   "id": "4801d55f-e9db-4429-90c1-504ebf887645",
   "metadata": {},
   "outputs": [
    {
     "name": "stdin",
     "output_type": "stream",
     "text": [
      "Digite seu nome:  Renato\n",
      "Digite sua idade:  52\n"
     ]
    },
    {
     "ename": "TypeError",
     "evalue": "'<' not supported between instances of 'str' and 'int'",
     "output_type": "error",
     "traceback": [
      "\u001b[1;31m---------------------------------------------------------------------------\u001b[0m",
      "\u001b[1;31mTypeError\u001b[0m                                 Traceback (most recent call last)",
      "Cell \u001b[1;32mIn[7], line 19\u001b[0m\n\u001b[0;32m     17\u001b[0m \u001b[38;5;28;01mwhile\u001b[39;00m (idade \u001b[38;5;241m<\u001b[39m \u001b[38;5;241m0\u001b[39m) \u001b[38;5;129;01mor\u001b[39;00m (idade\u001b[38;5;241m>\u001b[39m\u001b[38;5;241m150\u001b[39m):\n\u001b[0;32m     18\u001b[0m     idade \u001b[38;5;241m=\u001b[39m \u001b[38;5;28minput\u001b[39m(\u001b[38;5;124m\"\u001b[39m\u001b[38;5;124mDigite sua idade: \u001b[39m\u001b[38;5;124m\"\u001b[39m)\n\u001b[1;32m---> 19\u001b[0m     \u001b[38;5;28;01mif\u001b[39;00m (idade \u001b[38;5;241m<\u001b[39m \u001b[38;5;241m0\u001b[39m) \u001b[38;5;129;01mor\u001b[39;00m (idade\u001b[38;5;241m>\u001b[39m\u001b[38;5;241m150\u001b[39m):\n\u001b[0;32m     20\u001b[0m         \u001b[38;5;28mprint\u001b[39m(\u001b[38;5;124m\"\u001b[39m\u001b[38;5;124mA idade deve estar entre 0 e 150 anos!\u001b[39m\u001b[38;5;124m\"\u001b[39m)\n\u001b[0;32m     21\u001b[0m \u001b[38;5;66;03m# Validando o salário\u001b[39;00m\n",
      "\u001b[1;31mTypeError\u001b[0m: '<' not supported between instances of 'str' and 'int'"
     ]
    }
   ],
   "source": [
    "# Exercício 3\n",
    "#Faça um programa que leia e valide as seguintes informações:\n",
    "#a. Nome: maior que 3 caracteres;\n",
    "#b. Idade: entre 0 e 150;\n",
    "#c. Salário: maior que zero;\n",
    "#d. Sexo: 'f' ou 'm';\n",
    "#e. Estado Civil: 's', 'c', 'v', 'd';\n",
    "\n",
    "# Validando o nome\n",
    "nome = ''\n",
    "while (len(nome) <= 3):\n",
    "    nome = input(\"Digite seu nome: \")\n",
    "    if (len(nome) <= 3):\n",
    "        print(\"O nome deve ter mais de tres letras!\")\n",
    "# Validando a idade\n",
    "idade = -1\n",
    "while (idade < 0) or (idade>150):\n",
    "    idade = input(\"Digite sua idade: \")\n",
    "    if (idade < 0) or (idade>150):\n",
    "        print(\"A idade deve estar entre 0 e 150 anos!\")\n",
    "# Validando o salário\n",
    "salario = 0\n",
    "while (salario <= 0):\n",
    "    idade = input(\"Digite seu salário: \")\n",
    "    if (salário <= 0):\n",
    "        print(\"O salário deve ser maior que zero!\")\n",
    "\n",
    "# Validando genero\n",
    "sexo = \"\"\n",
    "while (sexo != F) and (sexo != M):\n",
    "    sexo = input(\"Informe o sexo: \").upper()\n",
    "    if (sexo != F) and (sexo != M):\n",
    "        print(\"O sexo deve ser informado como masculino (M) ou feminino (F)\")\n",
    "\n",
    "# Validando estado civil\n",
    "est_civil = \"A\"\n",
    "while ('SCVD'.find (est_civil)<0):\n",
    "    est_civil = input('Informe o seu estado civil: ').upper()\n",
    "    if ('SCVD'.find(estado_civil) < 0):\n",
    "        print('Estado civil deve ser informado como S (solteiro), C (casado), V (viuvo) ou D (divorciado)')\n",
    "\n",
    "\n"
   ]
  },
  {
   "cell_type": "code",
   "execution_count": null,
   "id": "39cd3dc5-8b87-4bd5-8e26-26abb336d522",
   "metadata": {},
   "outputs": [],
   "source": []
  }
 ],
 "metadata": {
  "kernelspec": {
   "display_name": "Python 3 (ipykernel)",
   "language": "python",
   "name": "python3"
  },
  "language_info": {
   "codemirror_mode": {
    "name": "ipython",
    "version": 3
   },
   "file_extension": ".py",
   "mimetype": "text/x-python",
   "name": "python",
   "nbconvert_exporter": "python",
   "pygments_lexer": "ipython3",
   "version": "3.12.7"
  }
 },
 "nbformat": 4,
 "nbformat_minor": 5
}
