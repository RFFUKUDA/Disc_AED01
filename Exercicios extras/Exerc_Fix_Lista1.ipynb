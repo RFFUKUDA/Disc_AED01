{
 "cells": [
  {
   "cell_type": "markdown",
   "id": "52fa2210-2d07-4557-ad28-64667b502c5f",
   "metadata": {},
   "source": [
    "### CONDICIONAIS"
   ]
  },
  {
   "cell_type": "code",
   "execution_count": 1,
   "id": "91272f7b-f0fc-4681-95b2-47d37d4a7140",
   "metadata": {},
   "outputs": [
    {
     "name": "stdin",
     "output_type": "stream",
     "text": [
      "Entre com um numero:  -22\n"
     ]
    },
    {
     "name": "stdout",
     "output_type": "stream",
     "text": [
      "n é par e negativo\n"
     ]
    }
   ],
   "source": [
    "#Exercício 0 - Faça um algoritmo para ler um número e mostrar se ele é par ou impar, positivo ou negativo.\n",
    "\n",
    "n = int(input(\"Entre com um numero: \"))\n",
    "if (n>=0):\n",
    "    if (n % 2) == 0: # verifica se n é par ou impar\n",
    "        print(\"n é par e positivo\")\n",
    "    else:\n",
    "        print(\"n é impar e positivo\")\n",
    "else:\n",
    "    if (abs(n) % 2 ) ==0: # verifica se n é positivo ou negativo\n",
    "        print(\"n é par e negativo\")\n",
    "    else:\n",
    "        print(\"n é impar e negativo\")"
   ]
  },
  {
   "cell_type": "code",
   "execution_count": 6,
   "id": "249eab3c-1c8f-44b0-b043-b25f208e2059",
   "metadata": {},
   "outputs": [
    {
     "name": "stdin",
     "output_type": "stream",
     "text": [
      "Entre com um numero N1:  15\n",
      "Entre com um numero N2:  12\n"
     ]
    },
    {
     "name": "stdout",
     "output_type": "stream",
     "text": [
      "O maior numero é N1=  15\n"
     ]
    }
   ],
   "source": [
    "#Exercício 1 - Faça um Programa que peça dois números e imprima o maior deles.\n",
    "#Entrada de dados\n",
    "N1 = int(input(\"Entre com um numero N1: \"))\n",
    "N2 = int(input(\"Entre com um numero N2: \"))\n",
    "#Verificando qual é o maior\n",
    "if N1>N2:\n",
    "    print (\"O maior numero é N1= \", N1)\n",
    "if N1<N2:\n",
    "    print (\"O maior numero é N2= \", N2)\n",
    "if N1==N2:\n",
    "    print (\"N1 e N2 são iguais!\")"
   ]
  },
  {
   "cell_type": "code",
   "execution_count": 13,
   "id": "4f33612b-f698-4d1a-aab8-f4832c542d13",
   "metadata": {},
   "outputs": [
    {
     "name": "stdin",
     "output_type": "stream",
     "text": [
      "Digite um numero:  -47\n"
     ]
    },
    {
     "name": "stdout",
     "output_type": "stream",
     "text": [
      "O numero  -47.0  é negativo\n"
     ]
    }
   ],
   "source": [
    "#Exercício 2 - Faça um Programa que peça um valor e mostre na tela se o valor é positivo ou negativo.\n",
    "#Entrada de dados\n",
    "No = float(input(\"Digite um numero: \"))\n",
    "#Verificando se é +, -, ou zero\n",
    "if No>0:\n",
    "    print (\"O numero \",No,\" é positivo\")\n",
    "if No<0:\n",
    "    print (\"O numero \",No,\" é negativo\")\n",
    "if No==0:\n",
    "    print (\"O numero \",No,\" é igual a zero\")"
   ]
  },
  {
   "cell_type": "code",
   "execution_count": 2,
   "id": "7921ebd6-c3ae-4f7e-b6d6-a64e48a63f92",
   "metadata": {},
   "outputs": [
    {
     "name": "stdin",
     "output_type": "stream",
     "text": [
      "Digite uma letra:  e\n"
     ]
    },
    {
     "name": "stdout",
     "output_type": "stream",
     "text": [
      "A letra digitada é uma Vogal\n"
     ]
    }
   ],
   "source": [
    "#Exercício 3 - Faça um Programa que verifique se uma letra digitada é vogal ou consoante.\n",
    "#Entrada de dados\n",
    "letra = input(\"Digite uma letra: \")\n",
    "#Verificando se é vogal\n",
    "if ('AEIOU'.find(letra.upper()) >= 0):\n",
    "    print(\"A letra digitada é uma Vogal\")\n",
    "else:\n",
    "    print(\"A letra digitada é uma Consoante\")"
   ]
  },
  {
   "cell_type": "code",
   "execution_count": 7,
   "id": "0181ced1-0fac-473d-967b-3fff226c3f64",
   "metadata": {},
   "outputs": [
    {
     "name": "stdin",
     "output_type": "stream",
     "text": [
      "Digite a nota da P1 do aluno:  4\n",
      "Digite a nota da P2 do aluno:  3\n"
     ]
    },
    {
     "name": "stdout",
     "output_type": "stream",
     "text": [
      "3.5\n",
      "Reprovado\n"
     ]
    }
   ],
   "source": [
    "#Exercício 4 - Faça um programa para a leitura de duas notas parciais de um aluno. O programa deve calcular a média alcançada por aluno e apresentar:\n",
    "#a. A mensagem \"Aprovado\", se a média alcançada for maior ou igual a sete;\n",
    "#b. A mensagem \"Reprovado\", se a média for menor do que sete;\n",
    "#c. A mensagem \"Aprovado com Distinção\", se a média for igual a dez.\n",
    "#Entrada de dados\n",
    "Nota1 = float(input(\"Digite a nota da P1 do aluno: \"))\n",
    "Nota2 = float(input(\"Digite a nota da P2 do aluno: \"))\n",
    "#Calculando a média\n",
    "Media = (Nota1+Nota2)/2\n",
    "#Exibindo a média e resultados\n",
    "print (Media)\n",
    "if Media==10:\n",
    "    print(\"Aprovado com Distinção\")\n",
    "elif Media>=7:\n",
    "    print(\"Aprovado\")\n",
    "else:\n",
    "    print(\"Reprovado\")"
   ]
  },
  {
   "cell_type": "code",
   "execution_count": 12,
   "id": "f516cc93-9973-4d14-b325-f99a42adb816",
   "metadata": {},
   "outputs": [
    {
     "name": "stdin",
     "output_type": "stream",
     "text": [
      "Digite o preço do primeiro produto:  20\n",
      "Digite o preço do segundo produto:  23\n",
      "Digite o preço do terceiro produto:  22\n"
     ]
    },
    {
     "name": "stdout",
     "output_type": "stream",
     "text": [
      "A melhor opção de compra é pelo primeiro produto\n"
     ]
    }
   ],
   "source": [
    "#Exercício 5 -Faça um programa que pergunte o preço de três produtos e informe qual produto você deve comprar,\n",
    "#sabendo que a decisão é sempre pelo mais barato.\n",
    "#Entrada de dados\n",
    "PrecoProd1 = float(input(\"Digite o preço do primeiro produto: \"))\n",
    "PrecoProd2 = float(input(\"Digite o preço do segundo produto: \"))\n",
    "PrecoProd3 = float(input(\"Digite o preço do terceiro produto: \"))\n",
    "#Comparação entre os preços e resultados\n",
    "if PrecoProd1<PrecoProd2 and PrecoProd1<PrecoProd3:\n",
    "    print (\"A melhor opção de compra é pelo primeiro produto\")\n",
    "elif PrecoProd2<PrecoProd1 and PrecoProd2<PrecoProd3:\n",
    "    print (\"A melhor opção de compra é pelo segundo produto\")\n",
    "else:\n",
    "    print (\"A melhor opção de compra é pelo terceiro produto\")"
   ]
  },
  {
   "cell_type": "code",
   "execution_count": 16,
   "id": "2f9facf4-d31e-49f5-99b6-27622e3b3ffe",
   "metadata": {},
   "outputs": [
    {
     "name": "stdin",
     "output_type": "stream",
     "text": [
      "Digite o primeiro número (N1):  15\n",
      "Digite o primeiro número (N2):  19\n",
      "Digite o primeiro número (N3):  10\n"
     ]
    },
    {
     "name": "stdout",
     "output_type": "stream",
     "text": [
      "19 15 10\n"
     ]
    }
   ],
   "source": [
    "#Exercício 6 -Faça um Programa que leia três números e mostre-os em ordem decrescente.\n",
    "#Entrada de dados\n",
    "N1 = int(input(\"Digite o primeiro número (N1): \"))\n",
    "N2 = int(input(\"Digite o primeiro número (N2): \"))\n",
    "N3 = int(input(\"Digite o primeiro número (N3): \"))\n",
    "#Comparando os numeros e mostrando os resultados\n",
    "if N1>N2 and N1>N3 and N2>N3:\n",
    "    print (N1,N2,N3)\n",
    "elif N1>N2 and N1>N3 and N3>N2:\n",
    "    print (N1,N3,N2)\n",
    "elif N2>N1 and N2>N3 and N1>N3:\n",
    "    print (N2,N1,N3)\n",
    "elif N2>N1 and N2>N3 and N3>N1:\n",
    "    print (N2,N3,N1)\n",
    "elif N3>N1 and N3>N2 and N1>N2:\n",
    "    print (N3,N1,N2)\n",
    "else:\n",
    "    print (N3,N2,N1)"
   ]
  },
  {
   "cell_type": "code",
   "execution_count": 25,
   "id": "12ac9ee5-ee9f-4107-92b6-1a38b95ff823",
   "metadata": {},
   "outputs": [
    {
     "name": "stdin",
     "output_type": "stream",
     "text": [
      "Digite o Turno em que você estuda: M (Matutino), V (Vespertino) ou N (noturno) m\n"
     ]
    },
    {
     "name": "stdout",
     "output_type": "stream",
     "text": [
      "Bom Dia!\n"
     ]
    }
   ],
   "source": [
    "#Exercício 7 - Faça um Programa que pergunte em que turno você estuda.\n",
    "#Peça para digitar M-matutino ou V-Vespertino ou N- Noturno.\n",
    "#Imprima a mensagem \"Bom Dia!\", \"Boa Tarde!\" ou \"Boa Noite!\" ou \"Valor Inválido!\", conforme o caso.\n",
    "#Entrada de dados\n",
    "Turno = input(\"Digite o Turno em que você estuda: M (Matutino), V (Vespertino) ou N (noturno)\").upper()\n",
    "#Comparando os numeros e mostrando os resultados\n",
    "if Turno == \"M\":\n",
    "    print (\"Bom Dia!\")\n",
    "elif Turno == \"V\":\n",
    "    print (\"Boa Tarde!\")\n",
    "elif Turno == \"N\":\n",
    "    print (\"Boa Noite!\")\n",
    "else:\n",
    "    print(\"valor invalido!\")"
   ]
  },
  {
   "cell_type": "code",
   "execution_count": 27,
   "id": "8081fcf4-9881-440d-ae44-5a11733c4995",
   "metadata": {},
   "outputs": [
    {
     "name": "stdin",
     "output_type": "stream",
     "text": [
      "Digite o valor de seu salário atual:  2000\n"
     ]
    },
    {
     "name": "stdout",
     "output_type": "stream",
     "text": [
      "Salário antes do reajuste era:  2000.0\n",
      "O percentuial de reajuste aplicável é de: 5 %\n",
      "O valor do reajuste é de:  100.0\n",
      "O valor do salário reajustado é de:  2100.0\n",
      "Um Oferecimento de 'Organizações Tabajara' \n"
     ]
    }
   ],
   "source": [
    "#Exercício 8 - As Organizações Tabajara resolveram dar um aumento de salário aos seus colaboradores e\n",
    "#lhe contrataram para desenvolver o programa que calculará os reajustes.\n",
    "#a.Faça um programa que recebe o salário de um colaborador e o reajuste segundo o seguinte critério, baseado no salário atual:\n",
    "#b.salários até R$ 280,00 (incluindo) : aumento de 20%\n",
    "#c.salários entre R$ 280,00 e R$ 700,00 : aumento de 15%\n",
    "#d.salários entre R$ 700,00 e R$ 1500,00 : aumento de 10%\n",
    "#e.salários de R$ 1500,00 em diante : aumento de 5%\n",
    "# Após o aumento ser realizado, informe na tela:\n",
    "#f.o salário antes do reajuste;\n",
    "#g.o percentual de aumento aplicado;\n",
    "#h.o valor do aumento;\n",
    "#i.o novo salário, após o aumento.\n",
    "\n",
    "#entrada de dados\n",
    "Sal_atual = float(input(\"Digite o valor de seu salário atual: \"))\n",
    "#Comparando o salário atual aos percentuais de reajuste\n",
    "if Sal_atual<=280:\n",
    "    perc = 20\n",
    "elif Sal_atual<700:\n",
    "    perc = 15\n",
    "elif Sal_atual<1500:\n",
    "    perc = 10\n",
    "else:\n",
    "    perc = 5\n",
    "#Calculando os valores\n",
    "Aumento = Sal_atual*(perc/100)\n",
    "Novo_salario = Sal_atual + Aumento\n",
    "# Mostrando os valores\n",
    "print (\"Salário antes do reajuste era: \",Sal_atual)\n",
    "print (\"O percentuial de reajuste aplicável é de:\",perc,\"%\")\n",
    "print (\"O valor do reajuste é de: \",Aumento)\n",
    "print (\"O valor do salário reajustado é de: \",Novo_salario)\n",
    "print (\"Um Oferecimento de 'Organizações Tabajara' \")\n"
   ]
  },
  {
   "cell_type": "code",
   "execution_count": 2,
   "id": "112202f4-7dc7-4f30-921a-5c3db4bc6db7",
   "metadata": {},
   "outputs": [
    {
     "name": "stdin",
     "output_type": "stream",
     "text": [
      "Digite o valor de seu salário por hora:  50\n",
      "Digite o valor de horas trabalhadas no mês:  20\n"
     ]
    },
    {
     "name": "stdout",
     "output_type": "stream",
     "text": [
      "O valor do salário por hora trabalhada é  50.0 R$/h\n",
      "A quantidade de horas trabalhadas no mês é 20.0 h\n",
      "O salário bruto é de: R$ 1000.0\n",
      "INSS: R$ 110.0\n",
      "DESCONTOS (-):\n",
      "(-) IR: R$ 50.0\n",
      "(-) Sindicato: R$ 30.0\n",
      "O salário líquido é de: R$ 920.0\n"
     ]
    }
   ],
   "source": [
    "#Exercício 9\n",
    "# Faça um programa para o cálculo de uma folha de pagamento,\n",
    "# sabendo que os descontos são do Imposto de Renda,\n",
    "# que depende do salário bruto (conforme tabela abaixo) e\n",
    "# 3% para o Sindicato e que o FGTS corresponde a 11% do Salário Bruto,\n",
    "# mas não é descontado (é a empresa que deposita).\n",
    "# O Salário Líquido corresponde ao Salário Bruto menos os descontos.\n",
    "# O programa deverá pedir ao usuário o valor da sua hora e a quantidade de horas trabalhadas no mês.\n",
    "#a.Desconto do IR:\n",
    "#b.Salário Bruto até 900 (inclusive) - isento\n",
    "#c.Salário Bruto até 1500 (inclusive) - desconto de 5%\n",
    "#d.Salário Bruto até 2500 (inclusive) - desconto de 10%\n",
    "#e.Salário Bruto acima de 2500 - desconto de 20%\n",
    "#Imprima na tela as informações, dispostas conforme o exemplo abaixo.\n",
    "#  No exemplo o valor da hora é 5 e a quantidade de hora é 220.\n",
    "#Salário Bruto: (5 * 220) : R$ 1100,00\n",
    "#(-) IR (5%) : R$ 55,00\n",
    "#(-) INSS ( 10%) : R$ 110,00\n",
    "#FGTS (11%) : R$ 121,00\n",
    "#Total de descontos : R$ 165,00 Salário Liquido : R$ 935,00\n",
    "\n",
    "#entrada de dados\n",
    "Sal_hora = float(input(\"Digite o valor de seu salário por hora: \"))\n",
    "H_trab = float(input(\"Digite o valor de horas trabalhadas no mês: \"))\n",
    "Sal_Brt = Sal_hora * H_trab\n",
    "\n",
    "#Calculo do desconto de IR\n",
    "if Sal_Brt<=900:\n",
    "    perc_ir = 0\n",
    "elif Sal_Brt<=1500:\n",
    "    perc_ir = 5/100\n",
    "elif Sal_Brt<=2500:\n",
    "    perc_ir = 10/100\n",
    "else:\n",
    "    perc_ir = 20/100\n",
    "Desc_IR = Sal_Brt * perc_ir\n",
    "\n",
    "#Calculo dos demais descontos\n",
    "Desc_sind = Sal_Brt * 3/100\n",
    "Desc_inss = Sal_Brt * 11/100\n",
    "\n",
    "#Calculo do Salário Líquido\n",
    "Sal_Lqd = Sal_Brt - Desc_IR - Desc_sind\n",
    "\n",
    "# Mostrando os valores\n",
    "print (\"O valor do salário por hora trabalhada é \",Sal_hora, \"R$/h\")\n",
    "print (\"A quantidade de horas trabalhadas no mês é\",H_trab, \"h\")\n",
    "print (\"O salário bruto é de: R$\" ,Sal_Brt)\n",
    "print (\"INSS: R$\", Desc_inss)\n",
    "print (\"DESCONTOS (-):\")\n",
    "print (\"(-) IR: R$\", Desc_IR, )\n",
    "print (\"(-) Sindicato: R$\", Desc_sind, )\n",
    "print (\"O salário líquido é de: R$\" ,Sal_Lqd)\n"
   ]
  },
  {
   "cell_type": "code",
   "execution_count": 5,
   "id": "ad84d367-2100-4eab-8ae8-f9ca376a3c66",
   "metadata": {},
   "outputs": [
    {
     "name": "stdin",
     "output_type": "stream",
     "text": [
      "Digite o valor da Nota da P1:  5\n",
      "Digite o valor da Nota da P2:  9\n"
     ]
    },
    {
     "name": "stdout",
     "output_type": "stream",
     "text": [
      "Conceito C\n"
     ]
    }
   ],
   "source": [
    "# Exercício 10.\n",
    "# Faça um programa que lê as duas notas parciais obtidas por um aluno numa disciplina ao longo de um semestre, e calcule a sua média.\n",
    "# A atribuição de conceitos obedece à tabela abaixo:\n",
    "#a. Média de Aproveitamento Conceito\n",
    "#b. Entre 9.0 e 10.0 A\n",
    "#c. Entre 7.5 e 9.0 B\n",
    "#d. Entre 6.0 e 7.5 C\n",
    "#e. Entre 4.0 e 6.0 D\n",
    "#f. Entre 4.0 e zero E\n",
    "\n",
    "#entrada de dados\n",
    "Aval_1 = float(input(\"Digite o valor da Nota da P1: \"))\n",
    "Aval_2 = float(input(\"Digite o valor da Nota da P2: \"))\n",
    "\n",
    "#Calculo da Média entre as notas informadas\n",
    "Md = (Aval_1 + Aval_2)/2\n",
    "\n",
    "#Atribuindo nota final\n",
    "if Md>=9:\n",
    "    print(\"Conceito A\")\n",
    "elif Md>=7.5:\n",
    "    print(\"Conceito B\")\n",
    "elif Md>=6:\n",
    "    print(\"Conceito C\")\n",
    "elif Md>=4:\n",
    "    print (\"Conceito D\")\n",
    "else:\n",
    "    print (\"Conceito E\")"
   ]
  }
 ],
 "metadata": {
  "kernelspec": {
   "display_name": "Python 3 (ipykernel)",
   "language": "python",
   "name": "python3"
  },
  "language_info": {
   "codemirror_mode": {
    "name": "ipython",
    "version": 3
   },
   "file_extension": ".py",
   "mimetype": "text/x-python",
   "name": "python",
   "nbconvert_exporter": "python",
   "pygments_lexer": "ipython3",
   "version": "3.12.7"
  }
 },
 "nbformat": 4,
 "nbformat_minor": 5
}
