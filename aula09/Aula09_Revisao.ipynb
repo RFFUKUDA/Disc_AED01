{
 "cells": [
  {
   "cell_type": "markdown",
   "metadata": {},
   "source": [
    "![Algoritmos e Estrutura de Dados I](AED1_banner.jpg)"
   ]
  },
  {
   "cell_type": "markdown",
   "metadata": {},
   "source": [
    "## <font color='blue'>Algoritmos e Estrutura de Dados I</font>\n",
    "## <font color='blue'>Aula 9 -  Revisão</font>"
   ]
  },
  {
   "cell_type": "code",
   "execution_count": null,
   "metadata": {},
   "outputs": [],
   "source": [
    "# Versão da Linguagem Python\n",
    "from platform import python_version\n",
    "print('Versão da Linguagem Python Usada Neste Jupyter Notebook:', python_version())"
   ]
  },
  {
   "cell_type": "markdown",
   "metadata": {},
   "source": [
    "## Estrutura sequencial"
   ]
  },
  {
   "cell_type": "markdown",
   "metadata": {},
   "source": [
    "Escreva um programa em Python que solicite ao usuário o valor de dois números, calcule e exiba a soma deles."
   ]
  },
  {
   "cell_type": "code",
   "execution_count": 7,
   "metadata": {},
   "outputs": [
    {
     "name": "stdin",
     "output_type": "stream",
     "text": [
      "Entre comn o valor de N1:  12\n",
      "Entre comn o valor de N2:  14\n"
     ]
    },
    {
     "name": "stdout",
     "output_type": "stream",
     "text": [
      "O valor da soma de N1 + N2 é 26.0\n"
     ]
    }
   ],
   "source": [
    "#entrada de dados\n",
    "N1=float(input(\"Entre comn o valor de N1: \"))\n",
    "N2=float(input(\"Entre comn o valor de N2: \"))\n",
    "somaN1N2 = N1 + N2\n",
    "print(\"O valor da soma de N1 + N2 é\", somaN1N2)"
   ]
  },
  {
   "attachments": {},
   "cell_type": "markdown",
   "metadata": {},
   "source": [
    "Escreva um programa em Python que solicite ao usuário a temperatura em graus Celsius e converta para Fahrenheit. A fórmula para conversão é F = C * 9/5 + 32.\n"
   ]
  },
  {
   "cell_type": "code",
   "execution_count": 10,
   "metadata": {},
   "outputs": [
    {
     "name": "stdin",
     "output_type": "stream",
     "text": [
      "Entre com o valor da temperatura em graus Celsius:  0\n"
     ]
    },
    {
     "name": "stdout",
     "output_type": "stream",
     "text": [
      "A temperatura de  0.0 em Farenheit é de: 32.0\n"
     ]
    }
   ],
   "source": [
    "#entrada de dados\n",
    "T_Celsius=float(input(\"Entre com o valor da temperatura em graus Celsius: \"))\n",
    "T_Fahrenheit=T_Celsius * 9 / 5 +32\n",
    "print(\"A temperatura de \",T_Celsius, \"em Farenheit é de:\", T_Fahrenheit)\n"
   ]
  },
  {
   "cell_type": "markdown",
   "metadata": {},
   "source": [
    "## Estrutura Condicional"
   ]
  },
  {
   "cell_type": "markdown",
   "metadata": {},
   "source": [
    "Escreva um programa em Python que solicite ao usuário um número e verifique se ele é positivo, negativo ou zero. Exiba a mensagem correspondente.\n"
   ]
  },
  {
   "cell_type": "code",
   "execution_count": 16,
   "metadata": {},
   "outputs": [
    {
     "name": "stdin",
     "output_type": "stream",
     "text": [
      "Digite um número:  14\n"
     ]
    },
    {
     "name": "stdout",
     "output_type": "stream",
     "text": [
      "O número é positivo.\n",
      "O número é par.\n"
     ]
    }
   ],
   "source": [
    "try:\n",
    "    numero = float(input(\"Digite um número: \"))\n",
    "# Verifica se o número é positivo, negativo ou zero\n",
    "    if numero > 0:\n",
    "        print(\"O número é positivo.\")\n",
    "    elif numero < 0:\n",
    "        print(\"O número é negativo.\")\n",
    "    else:\n",
    "        print(\"O número é zero.\")\n",
    "         # Verifica se o número é um inteiro para checar par/ímpar\n",
    "    if numero == int(numero):  # Checa se o número não tem parte decimal\n",
    "        if numero % 2 == 0:\n",
    "            print(\"O número é par.\")\n",
    "        else:\n",
    "            print(\"O número é ímpar.\")\n",
    "    else:\n",
    "        print(\"Não é possível verificar se é par ou ímpar para números não inteiros.\")\n",
    "except ValueError:\n",
    "    print(\"Entrada inválida. Por favor, digite um número.\")"
   ]
  },
  {
   "cell_type": "markdown",
   "metadata": {},
   "source": [
    "Escreva um programa em Python que solicite ao usuário três números e determine qual é o maior entre eles.\n"
   ]
  },
  {
   "cell_type": "code",
   "execution_count": 19,
   "metadata": {},
   "outputs": [
    {
     "name": "stdin",
     "output_type": "stream",
     "text": [
      "Entre comn o valor de N1:  5\n",
      "Entre comn o valor de N2:  9\n",
      "Entre comn o valor de N3:  2\n"
     ]
    },
    {
     "name": "stdout",
     "output_type": "stream",
     "text": [
      "O maior número é: 9.0\n"
     ]
    }
   ],
   "source": [
    "#entrada de dados\n",
    "N1=float(input(\"Entre comn o valor de N1: \"))\n",
    "N2=float(input(\"Entre comn o valor de N2: \"))\n",
    "N3=float(input(\"Entre comn o valor de N3: \"))\n",
    "if N1 > N2 and N1>N3:\n",
    "    print(f\"O maior número é: {N1}\")\n",
    "elif N2>N1 and N2>N3:\n",
    "    print(f\"O maior número é: {N2}\")\n",
    "else:\n",
    "    print(f\"O maior número é: {N3}\")\n"
   ]
  },
  {
   "cell_type": "markdown",
   "metadata": {},
   "source": [
    "## Estrutura de Repetição"
   ]
  },
  {
   "cell_type": "markdown",
   "metadata": {},
   "source": [
    "Escreva um programa em Python que exiba todos os números de 1 a 10.\n"
   ]
  },
  {
   "cell_type": "code",
   "execution_count": 20,
   "metadata": {},
   "outputs": [
    {
     "name": "stdout",
     "output_type": "stream",
     "text": [
      "Numeros de 1 a 10 (usando for): \n",
      "1\n",
      "2\n",
      "3\n",
      "4\n",
      "5\n",
      "6\n",
      "7\n",
      "8\n",
      "9\n",
      "10\n"
     ]
    }
   ],
   "source": [
    "print (\"Numeros de 1 a 10 (usando for): \")\n",
    "for numero in range(1,11):\n",
    "    print (numero)\n"
   ]
  },
  {
   "cell_type": "markdown",
   "metadata": {},
   "source": [
    "Escreva um programa em Python que solicite ao usuário um número inteiro positivo e calcule o fatorial desse número.\n"
   ]
  },
  {
   "cell_type": "code",
   "execution_count": 23,
   "metadata": {},
   "outputs": [
    {
     "name": "stdin",
     "output_type": "stream",
     "text": [
      "Digite um numero inteiro positivo qualquer para calcular o fatorial:  5\n"
     ]
    },
    {
     "name": "stdout",
     "output_type": "stream",
     "text": [
      "O fatorial de 5 é 120.\n"
     ]
    }
   ],
   "source": [
    "Nx = int(input(\"Digite um numero inteiro positivo qualquer para calcular o fatorial: \"))\n",
    "if Nx<0:\n",
    "    print(\"Fatorial não é definido para números negativos.\")\n",
    "#Caso especial para fatorial de zero\n",
    "elif Nx == 0:\n",
    "    print (\"O fatorial de 0 é 1\")\n",
    "#Calcula o fatorial para numeros positivos\n",
    "else:\n",
    "    fatorial = 1\n",
    "# multiplicação fatorial por cada numero de 1 atá o \"numero\"\n",
    "    for i in range(1,Nx+1):\n",
    "        fatorial *= i\n",
    "    print(f\"O fatorial de {Nx} é {fatorial}.\")        \n"
   ]
  },
  {
   "cell_type": "markdown",
   "metadata": {},
   "source": [
    "## Geral"
   ]
  },
  {
   "cell_type": "markdown",
   "metadata": {},
   "source": [
    "Você é um cientista de dados e precisa analisar as notas de um conjunto de estudantes em uma disciplina. Você deverá escrever um programa em Python que solicite ao usuário o número de estudantes e, em seguida, as notas desses estudantes. O programa deve calcular e exibir:\n",
    "\n",
    "- A média das notas.\n",
    "- A maior e a menor nota.\n",
    "- O número de estudantes aprovados (nota maior ou igual a 6) e reprovados (nota menor que 6).\n",
    "\n",
    "Regras:\n",
    "\n",
    "- Utilize variáveis simples para armazenar as informações.\n",
    "- Utilize estruturas de repetição para coletar as notas dos estudantes.\n",
    "- Utilize estruturas condicionais para determinar o status de aprovação dos estudantes."
   ]
  },
  {
   "cell_type": "code",
   "execution_count": 29,
   "metadata": {},
   "outputs": [
    {
     "name": "stdout",
     "output_type": "stream",
     "text": [
      "--- Análise de Notas da Disciplina ---\n"
     ]
    },
    {
     "name": "stdin",
     "output_type": "stream",
     "text": [
      "Digite o número total de estudantes:  5\n",
      "Digite a nota do estudante 1 (entre 0 e 10):  1\n"
     ]
    },
    {
     "name": "stdout",
     "output_type": "stream",
     "text": [
      "\n",
      "--- Resultados da Análise ---\n",
      "Média das notas: 0.20\n",
      "Maior nota: 1.00\n",
      "Menor nota: 1.00\n",
      "Número de estudantes aprovados: 0\n",
      "Número de estudantes reprovados: 1\n"
     ]
    },
    {
     "name": "stdin",
     "output_type": "stream",
     "text": [
      "Digite a nota do estudante 2 (entre 0 e 10):  8\n"
     ]
    },
    {
     "name": "stdout",
     "output_type": "stream",
     "text": [
      "\n",
      "--- Resultados da Análise ---\n",
      "Média das notas: 1.80\n",
      "Maior nota: 8.00\n",
      "Menor nota: 1.00\n",
      "Número de estudantes aprovados: 1\n",
      "Número de estudantes reprovados: 1\n"
     ]
    },
    {
     "name": "stdin",
     "output_type": "stream",
     "text": [
      "Digite a nota do estudante 3 (entre 0 e 10):  9\n"
     ]
    },
    {
     "name": "stdout",
     "output_type": "stream",
     "text": [
      "\n",
      "--- Resultados da Análise ---\n",
      "Média das notas: 3.60\n",
      "Maior nota: 9.00\n",
      "Menor nota: 1.00\n",
      "Número de estudantes aprovados: 2\n",
      "Número de estudantes reprovados: 1\n"
     ]
    },
    {
     "name": "stdin",
     "output_type": "stream",
     "text": [
      "Digite a nota do estudante 4 (entre 0 e 10):  8\n"
     ]
    },
    {
     "name": "stdout",
     "output_type": "stream",
     "text": [
      "\n",
      "--- Resultados da Análise ---\n",
      "Média das notas: 5.20\n",
      "Maior nota: 9.00\n",
      "Menor nota: 1.00\n",
      "Número de estudantes aprovados: 3\n",
      "Número de estudantes reprovados: 1\n"
     ]
    },
    {
     "name": "stdin",
     "output_type": "stream",
     "text": [
      "Digite a nota do estudante 5 (entre 0 e 10):  7\n"
     ]
    },
    {
     "name": "stdout",
     "output_type": "stream",
     "text": [
      "\n",
      "--- Resultados da Análise ---\n",
      "Média das notas: 6.60\n",
      "Maior nota: 9.00\n",
      "Menor nota: 1.00\n",
      "Número de estudantes aprovados: 4\n",
      "Número de estudantes reprovados: 1\n"
     ]
    }
   ],
   "source": [
    "# Inicialização de variáveis\n",
    "soma_das_notas = 0\n",
    "maior_nota = -1  # Usamos -1 pois notas são geralmente de 0 a 10, garantindo que a primeira nota seja maior\n",
    "menor_nota = 11  # Usamos 11 para garantir que a primeira nota seja menor\n",
    "aprovados = 0\n",
    "reprovados = 0\n",
    "\n",
    "print(\"--- Análise de Notas da Disciplina ---\")\n",
    "\n",
    "# Solicita o número de estudantes\n",
    "num_estudantes = int(input(\"Digite o número total de estudantes: \"))\n",
    "# Garante que o número de estudantes é positivo\n",
    "if num_estudantes <= 0:\n",
    "    print(\"O número de estudantes deve ser um inteiro positivo.\")\n",
    "else:# Loop para coletar as notas\n",
    "    for i in range(1, num_estudantes + 1):\n",
    "            while True: # Loop para garantir que a nota seja válida\n",
    "                try:\n",
    "                    nota = float(input(f\"Digite a nota do estudante {i} (entre 0 e 10): \"))\n",
    "                    if 0 <= nota <= 10:\n",
    "                        break # Sai do loop while se a nota for válida\n",
    "                    else:\n",
    "                        print(\"Nota inválida. Por favor, digite um valor entre 0 e 10.\")\n",
    "                except ValueError:\n",
    "                    print(\"Entrada inválida. Por favor, digite um número para a nota.\")\n",
    "            soma_das_notas += nota\n",
    "# Atualiza a maior e menor nota\n",
    "            if nota > maior_nota:\n",
    "                maior_nota = nota\n",
    "            if nota < menor_nota:\n",
    "                menor_nota = nota\n",
    "# Verifica status de aprovação\n",
    "            if nota >= 6:\n",
    "                aprovados += 1\n",
    "            else:\n",
    "                reprovados += 1\n",
    "# Calcula a média\n",
    "            media = soma_das_notas / num_estudantes\n",
    "\n",
    "# Exibe os resultados\n",
    "            print(\"\\n--- Resultados da Análise ---\")\n",
    "            print(f\"Média das notas: {media:.2f}\") # Formata para 2 casas decimais\n",
    "            print(f\"Maior nota: {maior_nota:.2f}\")\n",
    "            print(f\"Menor nota: {menor_nota:.2f}\")\n",
    "            print(f\"Número de estudantes aprovados: {aprovados}\")\n",
    "            print(f\"Número de estudantes reprovados: {reprovados}\")"
   ]
  },
  {
   "cell_type": "markdown",
   "metadata": {},
   "source": [
    "Faça um programa que receba um número inteiro positivo e transforme esse número para binário."
   ]
  },
  {
   "cell_type": "code",
   "execution_count": 31,
   "metadata": {},
   "outputs": [
    {
     "name": "stdout",
     "output_type": "stream",
     "text": [
      "--- Conversor de Número Decimal para Binário ---\n"
     ]
    },
    {
     "name": "stdin",
     "output_type": "stream",
     "text": [
      "Digite um número inteiro positivo:  20\n"
     ]
    },
    {
     "name": "stdout",
     "output_type": "stream",
     "text": [
      "O número 20 em binário é: 10100\n"
     ]
    }
   ],
   "source": [
    "if __name__ == \"__main__\":\n",
    "    print(\"--- Conversor de Número Decimal para Binário ---\")\n",
    "num_decimal = int(input(\"Digite um número inteiro positivo: \"))\n",
    "if num_decimal < 0:\n",
    "    print(\"Número inválido. Por favor, digite um número inteiro positivo.\")\n",
    "elif num_decimal == 0:\n",
    "        print(f\"O número {num_decimal} em binário é: 0\")\n",
    "else:\n",
    "    binario = \"\"           \n",
    "    temp_numero = num_decimal\n",
    "    while temp_numero > 0:\n",
    "        resto = temp_numero % 2  # Pega o resto da divisão por 2\n",
    "        binario = str(resto) + binario # Adiciona o resto no início da string binária\n",
    "        temp_numero = temp_numero // 2 # Divide o número por 2 (divisão inteira)\n",
    "    print(f\"O número {num_decimal} em binário é: {binario}\")\n"
   ]
  },
  {
   "cell_type": "markdown",
   "metadata": {},
   "source": [
    "## Fim da Aula 9"
   ]
  }
 ],
 "metadata": {
  "kernelspec": {
   "display_name": "Python 3 (ipykernel)",
   "language": "python",
   "name": "python3"
  },
  "language_info": {
   "codemirror_mode": {
    "name": "ipython",
    "version": 3
   },
   "file_extension": ".py",
   "mimetype": "text/x-python",
   "name": "python",
   "nbconvert_exporter": "python",
   "pygments_lexer": "ipython3",
   "version": "3.12.7"
  }
 },
 "nbformat": 4,
 "nbformat_minor": 4
}
