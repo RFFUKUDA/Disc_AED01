{
 "cells": [
  {
   "cell_type": "markdown",
   "id": "e68fed1b-63c7-40b2-be50-028e4c168a50",
   "metadata": {},
   "source": [
    "### tipo INTEIRO"
   ]
  },
  {
   "cell_type": "code",
   "execution_count": 5,
   "id": "99cfd2d1-7aaf-4f64-98a2-c0ae4fd61043",
   "metadata": {},
   "outputs": [],
   "source": [
    "num=10"
   ]
  },
  {
   "cell_type": "code",
   "execution_count": 6,
   "id": "b82ed434-946f-46c7-ba8c-25aa5319f6f4",
   "metadata": {},
   "outputs": [
    {
     "data": {
      "text/plain": [
       "10"
      ]
     },
     "execution_count": 6,
     "metadata": {},
     "output_type": "execute_result"
    }
   ],
   "source": [
    "num"
   ]
  },
  {
   "cell_type": "code",
   "execution_count": 7,
   "id": "c4a06611-5059-4a9a-baf3-9b75f6ea4003",
   "metadata": {},
   "outputs": [],
   "source": [
    "num=20"
   ]
  },
  {
   "cell_type": "code",
   "execution_count": 8,
   "id": "39367af3-3a79-4eaa-ad64-1cae26ccc7f5",
   "metadata": {},
   "outputs": [],
   "source": [
    "x=5"
   ]
  },
  {
   "cell_type": "code",
   "execution_count": 9,
   "id": "5248aa8f-bd9c-44d7-9b22-faf625a0ff4b",
   "metadata": {},
   "outputs": [
    {
     "data": {
      "text/plain": [
       "25"
      ]
     },
     "execution_count": 9,
     "metadata": {},
     "output_type": "execute_result"
    }
   ],
   "source": [
    "num + x"
   ]
  },
  {
   "cell_type": "code",
   "execution_count": 10,
   "id": "219635b0-81a8-405b-83c5-c4d9cce37d1e",
   "metadata": {},
   "outputs": [],
   "source": [
    "soma = num + x"
   ]
  },
  {
   "cell_type": "code",
   "execution_count": 11,
   "id": "a66720e8-3cf0-4dfb-aea5-d8b8307eab77",
   "metadata": {},
   "outputs": [
    {
     "data": {
      "text/plain": [
       "25"
      ]
     },
     "execution_count": 11,
     "metadata": {},
     "output_type": "execute_result"
    }
   ],
   "source": [
    "soma"
   ]
  },
  {
   "cell_type": "code",
   "execution_count": 12,
   "id": "9901ca01-0aac-4e94-8439-e799c8b4cde8",
   "metadata": {},
   "outputs": [],
   "source": [
    "mult = num * x"
   ]
  },
  {
   "cell_type": "code",
   "execution_count": 13,
   "id": "04c6bb42-ab4f-459f-ac08-350ce3e58b5c",
   "metadata": {},
   "outputs": [
    {
     "data": {
      "text/plain": [
       "100"
      ]
     },
     "execution_count": 13,
     "metadata": {},
     "output_type": "execute_result"
    }
   ],
   "source": [
    "mult"
   ]
  },
  {
   "cell_type": "code",
   "execution_count": 14,
   "id": "b5d9db9e-62f3-41a1-9533-d1d3f1ad421c",
   "metadata": {},
   "outputs": [
    {
     "data": {
      "text/plain": [
       "107150860718626732094842504906000181056140481170553360744375038837035105112493612249319837881569585812759467291755314682518714528569231404359845775746985748039345677748242309854210746050623711418779541821530464749835819412673987675591655439460770629145711964776865421676604298316526243868372056680693760000000000000000000000000000000000000000000000000000000000000000000000000000000000000000000000000000000000000000000000000000000000000000000000000000000000000000000000000000000000000000000000000000000000000000000000000000000000000000000000000000000000000000000000000000000000000000000000000000000000000000000000000000000000000000000000000000000000000000000000000000000000000000000000000000000000000000000000000000000000000000000000000000000000000000000000000000000000000000000000000000000000000000000000000000000000000000000000000000000000000000000000000000000000000000000000000000000000000000000000000000000000000000000000000000000000000000000000000000000000000000000000000000000000000000000000000000000000000000000000000000000000000000000000000000000000000000000000000000000000000000000000000000000000000000000000000000000000000000000000000000000000000000000000000000000000000000000000000000000000000000000000000000000000000000000000000000000000000000000000000000000000000000000000000000000000000000"
      ]
     },
     "execution_count": 14,
     "metadata": {},
     "output_type": "execute_result"
    }
   ],
   "source": [
    "num**1000"
   ]
  },
  {
   "cell_type": "code",
   "execution_count": 15,
   "id": "646122a5-45f6-4192-ad6b-40c2349d22cd",
   "metadata": {},
   "outputs": [],
   "source": [
    "y=7"
   ]
  },
  {
   "cell_type": "code",
   "execution_count": 16,
   "id": "7156364e-d66b-425d-a003-81273c5f79bd",
   "metadata": {},
   "outputs": [],
   "source": [
    "subtr = num - y"
   ]
  },
  {
   "cell_type": "code",
   "execution_count": 17,
   "id": "dafaa036-8e51-4c94-a417-0190aff94e7b",
   "metadata": {},
   "outputs": [
    {
     "data": {
      "text/plain": [
       "13"
      ]
     },
     "execution_count": 17,
     "metadata": {},
     "output_type": "execute_result"
    }
   ],
   "source": [
    "subtr"
   ]
  },
  {
   "cell_type": "code",
   "execution_count": 18,
   "id": "34a0fba3-4785-4ef6-82bf-0ed7947118dc",
   "metadata": {},
   "outputs": [],
   "source": [
    "divis = num / y"
   ]
  },
  {
   "cell_type": "code",
   "execution_count": 19,
   "id": "7ff1a70a-4cf3-44d6-8b31-28f46eecd08e",
   "metadata": {},
   "outputs": [
    {
     "data": {
      "text/plain": [
       "2.857142857142857"
      ]
     },
     "execution_count": 19,
     "metadata": {},
     "output_type": "execute_result"
    }
   ],
   "source": [
    "divis"
   ]
  },
  {
   "cell_type": "markdown",
   "id": "080561f9-c90e-46c0-954a-93d7bfbf93fb",
   "metadata": {},
   "source": [
    "### tipo FLOAT"
   ]
  },
  {
   "cell_type": "code",
   "execution_count": 20,
   "id": "d6e89ee8-cfe7-4abc-a5a3-16680a0919ca",
   "metadata": {},
   "outputs": [
    {
     "data": {
      "text/plain": [
       "20"
      ]
     },
     "execution_count": 20,
     "metadata": {},
     "output_type": "execute_result"
    }
   ],
   "source": [
    "num"
   ]
  },
  {
   "cell_type": "code",
   "execution_count": 21,
   "id": "d35b9e29-f6fb-4d19-830c-02794b3e1e6b",
   "metadata": {},
   "outputs": [
    {
     "data": {
      "text/plain": [
       "int"
      ]
     },
     "execution_count": 21,
     "metadata": {},
     "output_type": "execute_result"
    }
   ],
   "source": [
    "type (num)"
   ]
  },
  {
   "cell_type": "code",
   "execution_count": 22,
   "id": "7661cdde-47fc-43a3-894a-3a06f51be17d",
   "metadata": {},
   "outputs": [
    {
     "data": {
      "text/plain": [
       "100"
      ]
     },
     "execution_count": 22,
     "metadata": {},
     "output_type": "execute_result"
    }
   ],
   "source": [
    "mult"
   ]
  },
  {
   "cell_type": "code",
   "execution_count": 23,
   "id": "4b91ea04-254e-4033-8184-0df9f83ff17f",
   "metadata": {},
   "outputs": [
    {
     "data": {
      "text/plain": [
       "2.857142857142857"
      ]
     },
     "execution_count": 23,
     "metadata": {},
     "output_type": "execute_result"
    }
   ],
   "source": [
    "divis"
   ]
  },
  {
   "cell_type": "code",
   "execution_count": 24,
   "id": "fdbca052-4234-4197-bd10-ae9c2ae734c8",
   "metadata": {},
   "outputs": [
    {
     "data": {
      "text/plain": [
       "float"
      ]
     },
     "execution_count": 24,
     "metadata": {},
     "output_type": "execute_result"
    }
   ],
   "source": [
    "type (divis)"
   ]
  },
  {
   "cell_type": "markdown",
   "id": "0f56c33d-2b46-41fb-8d4a-48867c397bab",
   "metadata": {},
   "source": [
    "# tipo COMPLEXO"
   ]
  },
  {
   "cell_type": "code",
   "execution_count": 25,
   "id": "c459a86e-1a9a-400e-88ea-ead0151eb8e1",
   "metadata": {},
   "outputs": [],
   "source": [
    "C = (5+6j)"
   ]
  },
  {
   "cell_type": "code",
   "execution_count": 26,
   "id": "489caca9-278e-4f32-b249-0633f48c38b6",
   "metadata": {},
   "outputs": [
    {
     "data": {
      "text/plain": [
       "(5+6j)"
      ]
     },
     "execution_count": 26,
     "metadata": {},
     "output_type": "execute_result"
    }
   ],
   "source": [
    "C"
   ]
  },
  {
   "cell_type": "code",
   "execution_count": 27,
   "id": "0c9ca54e-65a1-4fbe-b640-addffeb3f3a8",
   "metadata": {},
   "outputs": [
    {
     "data": {
      "text/plain": [
       "complex"
      ]
     },
     "execution_count": 27,
     "metadata": {},
     "output_type": "execute_result"
    }
   ],
   "source": [
    "type (C)"
   ]
  },
  {
   "cell_type": "markdown",
   "id": "aea951e1-b35a-4e39-a446-4cfa524424cf",
   "metadata": {},
   "source": [
    "# tipo BOOLEANO"
   ]
  },
  {
   "cell_type": "code",
   "execution_count": 28,
   "id": "e5167e7b-8ecd-4399-9544-cc6dfa19511e",
   "metadata": {},
   "outputs": [],
   "source": [
    "flag = True"
   ]
  },
  {
   "cell_type": "code",
   "execution_count": 29,
   "id": "fd416633-2d5a-4096-a9d4-ba40b02901fa",
   "metadata": {},
   "outputs": [
    {
     "data": {
      "text/plain": [
       "bool"
      ]
     },
     "execution_count": 29,
     "metadata": {},
     "output_type": "execute_result"
    }
   ],
   "source": [
    "type(flag)"
   ]
  },
  {
   "cell_type": "code",
   "execution_count": 30,
   "id": "d1f0d700-0b83-41c0-8591-e7ddd3f3ff6e",
   "metadata": {},
   "outputs": [
    {
     "data": {
      "text/plain": [
       "True"
      ]
     },
     "execution_count": 30,
     "metadata": {},
     "output_type": "execute_result"
    }
   ],
   "source": [
    "True"
   ]
  },
  {
   "cell_type": "code",
   "execution_count": 31,
   "id": "79b69d83-6986-48bc-943c-def7436d8c67",
   "metadata": {},
   "outputs": [
    {
     "data": {
      "text/plain": [
       "False"
      ]
     },
     "execution_count": 31,
     "metadata": {},
     "output_type": "execute_result"
    }
   ],
   "source": [
    "not flag"
   ]
  },
  {
   "cell_type": "code",
   "execution_count": 32,
   "id": "eae7f746-be4b-44a3-9dc1-cebdbf4a85cc",
   "metadata": {},
   "outputs": [],
   "source": [
    "x = flag and False"
   ]
  },
  {
   "cell_type": "code",
   "execution_count": 33,
   "id": "5b3cd04c-240d-497a-8b20-9031db58d6cd",
   "metadata": {},
   "outputs": [
    {
     "data": {
      "text/plain": [
       "False"
      ]
     },
     "execution_count": 33,
     "metadata": {},
     "output_type": "execute_result"
    }
   ],
   "source": [
    "x"
   ]
  },
  {
   "cell_type": "markdown",
   "id": "a164f8fb-e23f-4aa0-884e-f6b0983d06fd",
   "metadata": {},
   "source": [
    "# Tipo STRING"
   ]
  },
  {
   "cell_type": "code",
   "execution_count": 35,
   "id": "8d0fd2ca-ad69-4199-9af7-a244c399f11a",
   "metadata": {},
   "outputs": [],
   "source": [
    "letra = \"a\"\n"
   ]
  },
  {
   "cell_type": "code",
   "execution_count": 36,
   "id": "e7313478-10ea-4039-b5a9-00e4b9a2a650",
   "metadata": {},
   "outputs": [
    {
     "data": {
      "text/plain": [
       "str"
      ]
     },
     "execution_count": 36,
     "metadata": {},
     "output_type": "execute_result"
    }
   ],
   "source": [
    "type (letra)"
   ]
  },
  {
   "cell_type": "code",
   "execution_count": 37,
   "id": "e9047b13-f554-4275-95ac-088719ecd737",
   "metadata": {},
   "outputs": [],
   "source": [
    "frase = 'Batatinha quando nasce, espalha a rama pelo chão'"
   ]
  },
  {
   "cell_type": "code",
   "execution_count": 78,
   "id": "9f0a9a16-56ad-4854-a25c-db86820a7b07",
   "metadata": {},
   "outputs": [
    {
     "data": {
      "text/plain": [
       "'Batatinha quando nasce, espalha a rama pelo chão'"
      ]
     },
     "execution_count": 78,
     "metadata": {},
     "output_type": "execute_result"
    }
   ],
   "source": [
    "frase"
   ]
  },
  {
   "cell_type": "code",
   "execution_count": 117,
   "id": "5582f157-91c4-4ac6-bd09-ed8923be5ad0",
   "metadata": {},
   "outputs": [
    {
     "data": {
      "text/plain": [
       "'BATATINHA QUANDO NASCE, ESPALHA A RAMA PELO CHÃO'"
      ]
     },
     "execution_count": 117,
     "metadata": {},
     "output_type": "execute_result"
    }
   ],
   "source": [
    "frase.upper()"
   ]
  },
  {
   "cell_type": "code",
   "execution_count": 38,
   "id": "41619e8c-fe2b-4023-9a32-bd133951034d",
   "metadata": {},
   "outputs": [
    {
     "data": {
      "text/plain": [
       "str"
      ]
     },
     "execution_count": 38,
     "metadata": {},
     "output_type": "execute_result"
    }
   ],
   "source": [
    "type (frase)"
   ]
  },
  {
   "cell_type": "code",
   "execution_count": 39,
   "id": "7ee52372-96bf-491d-929a-f64bb504cef1",
   "metadata": {},
   "outputs": [],
   "source": [
    "palavra = \"Python\""
   ]
  },
  {
   "cell_type": "code",
   "execution_count": 40,
   "id": "292a16f3-8587-427e-9017-314582dc682a",
   "metadata": {},
   "outputs": [
    {
     "data": {
      "text/plain": [
       "'Python'"
      ]
     },
     "execution_count": 40,
     "metadata": {},
     "output_type": "execute_result"
    }
   ],
   "source": [
    "palavra"
   ]
  },
  {
   "cell_type": "code",
   "execution_count": 41,
   "id": "295c7c7b-e2e3-4dee-ace5-4029ee775e1a",
   "metadata": {},
   "outputs": [
    {
     "data": {
      "text/plain": [
       "'PYTHON'"
      ]
     },
     "execution_count": 41,
     "metadata": {},
     "output_type": "execute_result"
    }
   ],
   "source": [
    "palavra.upper()"
   ]
  },
  {
   "cell_type": "code",
   "execution_count": 42,
   "id": "efe3ed87-0ba7-4f3d-9598-bd3317ec8aa8",
   "metadata": {},
   "outputs": [
    {
     "data": {
      "text/plain": [
       "str"
      ]
     },
     "execution_count": 42,
     "metadata": {},
     "output_type": "execute_result"
    }
   ],
   "source": [
    "type (palavra)"
   ]
  },
  {
   "cell_type": "code",
   "execution_count": 43,
   "id": "d6841b90-fe8c-46a4-a44e-d24bdc42494c",
   "metadata": {},
   "outputs": [
    {
     "data": {
      "text/plain": [
       "'P'"
      ]
     },
     "execution_count": 43,
     "metadata": {},
     "output_type": "execute_result"
    }
   ],
   "source": [
    "palavra[0]"
   ]
  },
  {
   "cell_type": "markdown",
   "id": "da972d18-5d52-4303-854e-c1a71c9edaf7",
   "metadata": {},
   "source": [
    "# FUNÇÕES EMBUTIDAS"
   ]
  },
  {
   "cell_type": "code",
   "execution_count": 44,
   "id": "79ea585e-5c93-41ae-838e-6c60879a765e",
   "metadata": {},
   "outputs": [
    {
     "data": {
      "text/plain": [
       "40"
      ]
     },
     "execution_count": 44,
     "metadata": {},
     "output_type": "execute_result"
    }
   ],
   "source": [
    "abs(40)"
   ]
  },
  {
   "cell_type": "code",
   "execution_count": 45,
   "id": "470348c6-f2d0-49a0-a973-760a21a8752c",
   "metadata": {},
   "outputs": [
    {
     "data": {
      "text/plain": [
       "34"
      ]
     },
     "execution_count": 45,
     "metadata": {},
     "output_type": "execute_result"
    }
   ],
   "source": [
    "abs(-34)"
   ]
  },
  {
   "cell_type": "code",
   "execution_count": 46,
   "id": "8356aa6d-8c40-41fe-ab9e-69a5189e93f1",
   "metadata": {},
   "outputs": [
    {
     "data": {
      "text/plain": [
       "'_'"
      ]
     },
     "execution_count": 46,
     "metadata": {},
     "output_type": "execute_result"
    }
   ],
   "source": [
    "chr(95)"
   ]
  },
  {
   "cell_type": "code",
   "execution_count": 51,
   "id": "9cc82fda-b8b1-4b70-b393-e6f499000530",
   "metadata": {},
   "outputs": [
    {
     "data": {
      "text/plain": [
       "'^'"
      ]
     },
     "execution_count": 51,
     "metadata": {},
     "output_type": "execute_result"
    }
   ],
   "source": [
    "chr(94)"
   ]
  },
  {
   "cell_type": "code",
   "execution_count": 52,
   "id": "39043c6c-c501-42ef-8154-859ed13f1012",
   "metadata": {},
   "outputs": [
    {
     "data": {
      "text/plain": [
       "('[', '\\\\', ']')"
      ]
     },
     "execution_count": 52,
     "metadata": {},
     "output_type": "execute_result"
    }
   ],
   "source": [
    "chr(91) , chr(92) , chr(93)"
   ]
  },
  {
   "cell_type": "code",
   "execution_count": 53,
   "id": "237b8415-7eae-43d7-981b-22ee91b823d1",
   "metadata": {},
   "outputs": [
    {
     "data": {
      "text/plain": [
       "('`', 'a', 'b')"
      ]
     },
     "execution_count": 53,
     "metadata": {},
     "output_type": "execute_result"
    }
   ],
   "source": [
    "chr(96) , chr(97) , chr(98)"
   ]
  },
  {
   "cell_type": "code",
   "execution_count": 54,
   "id": "d67a7ad8-42f2-4223-bf89-d6caf06fcd0b",
   "metadata": {},
   "outputs": [
    {
     "data": {
      "text/plain": [
       "('A', 'B', 'C')"
      ]
     },
     "execution_count": 54,
     "metadata": {},
     "output_type": "execute_result"
    }
   ],
   "source": [
    "chr(65) , chr(66) , chr(67)"
   ]
  },
  {
   "cell_type": "code",
   "execution_count": 56,
   "id": "433ffa98-6dc8-48b9-8747-e7e76f7f5b42",
   "metadata": {},
   "outputs": [
    {
     "data": {
      "text/plain": [
       "122"
      ]
     },
     "execution_count": 56,
     "metadata": {},
     "output_type": "execute_result"
    }
   ],
   "source": [
    "ord(\"z\")"
   ]
  },
  {
   "cell_type": "code",
   "execution_count": 57,
   "id": "fda806a9-85e7-424e-9a72-aadccd164cc4",
   "metadata": {},
   "outputs": [
    {
     "name": "stdout",
     "output_type": "stream",
     "text": [
      "Help on built-in function ord in module builtins:\n",
      "\n",
      "ord(c, /)\n",
      "    Return the Unicode code point for a one-character string.\n",
      "\n"
     ]
    }
   ],
   "source": [
    "help(ord)"
   ]
  },
  {
   "cell_type": "code",
   "execution_count": 58,
   "id": "415fafa8-92f9-496e-8aea-77daec8081ba",
   "metadata": {},
   "outputs": [
    {
     "name": "stdout",
     "output_type": "stream",
     "text": [
      "frase\n"
     ]
    }
   ],
   "source": [
    "print(\"frase\")"
   ]
  },
  {
   "cell_type": "code",
   "execution_count": 61,
   "id": "5f008879-7a28-479f-b92a-d58550365113",
   "metadata": {},
   "outputs": [
    {
     "name": "stdout",
     "output_type": "stream",
     "text": [
      "Batatinha quando nasce, espalha a rama pelo chão\n"
     ]
    }
   ],
   "source": [
    "print (frase)"
   ]
  }
 ],
 "metadata": {
  "kernelspec": {
   "display_name": "Python 3 (ipykernel)",
   "language": "python",
   "name": "python3"
  },
  "language_info": {
   "codemirror_mode": {
    "name": "ipython",
    "version": 3
   },
   "file_extension": ".py",
   "mimetype": "text/x-python",
   "name": "python",
   "nbconvert_exporter": "python",
   "pygments_lexer": "ipython3",
   "version": "3.12.7"
  }
 },
 "nbformat": 4,
 "nbformat_minor": 5
}
