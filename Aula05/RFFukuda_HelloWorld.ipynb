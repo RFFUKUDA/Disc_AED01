{
 "cells": [
  {
   "cell_type": "code",
   "execution_count": 1,
   "id": "f4ba8885-3075-416b-9f1d-b33c0733621a",
   "metadata": {},
   "outputs": [
    {
     "name": "stdout",
     "output_type": "stream",
     "text": [
      "Hello World!!!\n"
     ]
    }
   ],
   "source": [
    "print(\"Hello World!!!\")"
   ]
  },
  {
   "cell_type": "code",
   "execution_count": 6,
   "id": "a41467a5-698c-4e60-bfc6-7ab4227b52d1",
   "metadata": {},
   "outputs": [],
   "source": [
    "Salario = 10000"
   ]
  },
  {
   "cell_type": "code",
   "execution_count": 8,
   "id": "f700506e-9ec1-4652-856b-f467da04d832",
   "metadata": {},
   "outputs": [],
   "source": [
    "Aumento = Salario * 0.153"
   ]
  },
  {
   "cell_type": "code",
   "execution_count": 10,
   "id": "fea6e043-1da4-431f-a4f8-b71c9fc40e9f",
   "metadata": {},
   "outputs": [],
   "source": [
    "Novo_Salario = Salario + Aumento"
   ]
  },
  {
   "cell_type": "code",
   "execution_count": 22,
   "id": "57e8f3fb-3a4b-4669-af2f-149d65af3146",
   "metadata": {},
   "outputs": [
    {
     "name": "stdout",
     "output_type": "stream",
     "text": [
      "11530.0\n"
     ]
    }
   ],
   "source": [
    "print(Novo_Salario)"
   ]
  },
  {
   "cell_type": "code",
   "execution_count": null,
   "id": "f7782a66-d065-46ba-87ef-b941b521c76d",
   "metadata": {},
   "outputs": [],
   "source": []
  }
 ],
 "metadata": {
  "kernelspec": {
   "display_name": "Python [conda env:base] *",
   "language": "python",
   "name": "conda-base-py"
  },
  "language_info": {
   "codemirror_mode": {
    "name": "ipython",
    "version": 3
   },
   "file_extension": ".py",
   "mimetype": "text/x-python",
   "name": "python",
   "nbconvert_exporter": "python",
   "pygments_lexer": "ipython3",
   "version": "3.12.7"
  }
 },
 "nbformat": 4,
 "nbformat_minor": 5
}
