{
 "cells": [
  {
   "cell_type": "markdown",
   "id": "02a36d6c-554d-4396-9aef-905710ff84c5",
   "metadata": {},
   "source": [
    "# type Comandos de Entrada e Saída"
   ]
  },
  {
   "cell_type": "code",
   "execution_count": 3,
   "id": "c25d80fb-ec6c-47f5-b8d4-6d79060469d3",
   "metadata": {},
   "outputs": [],
   "source": [
    "nome = \"Renato\"\n",
    "idade = 52"
   ]
  },
  {
   "cell_type": "code",
   "execution_count": 5,
   "id": "768098e8-8b36-4cdc-bf3e-a88c1df1f59f",
   "metadata": {},
   "outputs": [
    {
     "name": "stdout",
     "output_type": "stream",
     "text": [
      "Renato  tem  52  anos! \n"
     ]
    }
   ],
   "source": [
    "print(nome, \" tem \", idade, \" anos! \")"
   ]
  },
  {
   "cell_type": "code",
   "execution_count": 7,
   "id": "428d4911-e09f-4247-a803-3e4474997d0b",
   "metadata": {},
   "outputs": [
    {
     "name": "stdin",
     "output_type": "stream",
     "text": [
      "Digite seu nome:  Renato\n"
     ]
    }
   ],
   "source": [
    "nome=input(\"Digite seu nome: \")"
   ]
  },
  {
   "cell_type": "code",
   "execution_count": 9,
   "id": "21a1301a-ab3b-4142-9ef2-9b41f5587380",
   "metadata": {},
   "outputs": [
    {
     "name": "stdout",
     "output_type": "stream",
     "text": [
      "Renato  tem  52  anos! \n"
     ]
    }
   ],
   "source": [
    "print(nome, \" tem \", idade, \" anos! \")"
   ]
  },
  {
   "cell_type": "code",
   "execution_count": 11,
   "id": "d2f6e615-2a73-4889-894c-0f73201ab429",
   "metadata": {},
   "outputs": [
    {
     "data": {
      "text/plain": [
       "str"
      ]
     },
     "execution_count": 11,
     "metadata": {},
     "output_type": "execute_result"
    }
   ],
   "source": [
    "type(nome)"
   ]
  },
  {
   "cell_type": "code",
   "execution_count": 13,
   "id": "b9514172-0ff3-4ce4-92a2-e3fdabf5d398",
   "metadata": {},
   "outputs": [
    {
     "name": "stdin",
     "output_type": "stream",
     "text": [
      "Digite sua idade:  25\n"
     ]
    }
   ],
   "source": [
    "idade=input(\"Digite sua idade: \")"
   ]
  },
  {
   "cell_type": "code",
   "execution_count": 15,
   "id": "2ebbb5ec-f87d-4137-b52b-d5918c85b2b2",
   "metadata": {},
   "outputs": [
    {
     "data": {
      "text/plain": [
       "'25'"
      ]
     },
     "execution_count": 15,
     "metadata": {},
     "output_type": "execute_result"
    }
   ],
   "source": [
    "idade"
   ]
  },
  {
   "cell_type": "code",
   "execution_count": 19,
   "id": "3f6e23dc-89cc-4507-ba4e-bffb9c805b0b",
   "metadata": {},
   "outputs": [
    {
     "data": {
      "text/plain": [
       "str"
      ]
     },
     "execution_count": 19,
     "metadata": {},
     "output_type": "execute_result"
    }
   ],
   "source": [
    "type(idade)"
   ]
  },
  {
   "cell_type": "code",
   "execution_count": 29,
   "id": "0aae2b22-0ee4-443f-a420-90debbdb5acd",
   "metadata": {},
   "outputs": [],
   "source": [
    "idade = int(idade)\n",
    "#Convertendo idade de String para Int"
   ]
  },
  {
   "cell_type": "code",
   "execution_count": 23,
   "id": "14aa2cea-6202-4466-9c0a-39f6cbb5e30a",
   "metadata": {},
   "outputs": [
    {
     "data": {
      "text/plain": [
       "int"
      ]
     },
     "execution_count": 23,
     "metadata": {},
     "output_type": "execute_result"
    }
   ],
   "source": [
    "type(idade)"
   ]
  },
  {
   "cell_type": "code",
   "execution_count": 41,
   "id": "0340d3d1-7d33-4efc-8651-5f65ed65a36b",
   "metadata": {},
   "outputs": [
    {
     "name": "stdin",
     "output_type": "stream",
     "text": [
      "Digite sua idade:  36\n"
     ]
    }
   ],
   "source": [
    "idade = int(input(\"Digite sua idade: \"))"
   ]
  },
  {
   "cell_type": "code",
   "execution_count": 33,
   "id": "255cbaa5-1645-42e7-9adc-ad66b682426b",
   "metadata": {},
   "outputs": [
    {
     "name": "stdout",
     "output_type": "stream",
     "text": [
      "Renato  tem  36  anos! \n"
     ]
    }
   ],
   "source": [
    "print(nome, \" tem \", idade, \" anos! \")"
   ]
  },
  {
   "cell_type": "code",
   "execution_count": 35,
   "id": "eea915f2-c6a2-4e7a-9213-840573645feb",
   "metadata": {},
   "outputs": [
    {
     "data": {
      "text/plain": [
       "str"
      ]
     },
     "execution_count": 35,
     "metadata": {},
     "output_type": "execute_result"
    }
   ],
   "source": [
    "type(nome)"
   ]
  },
  {
   "cell_type": "code",
   "execution_count": 37,
   "id": "1016ebd6-6893-4d34-ab15-dc6759e341e7",
   "metadata": {},
   "outputs": [
    {
     "data": {
      "text/plain": [
       "int"
      ]
     },
     "execution_count": 37,
     "metadata": {},
     "output_type": "execute_result"
    }
   ],
   "source": [
    "type(idade)"
   ]
  },
  {
   "cell_type": "markdown",
   "id": "2e7897db-d81d-4384-9262-158bd554b053",
   "metadata": {},
   "source": [
    "# CALCULO DA ÁREA"
   ]
  },
  {
   "cell_type": "code",
   "execution_count": 45,
   "id": "1bcd12e9-4273-4a70-b0a9-8433928346f0",
   "metadata": {},
   "outputs": [
    {
     "name": "stdin",
     "output_type": "stream",
     "text": [
      "Digite o lado maior:  6\n",
      "Digite o lado menor:  3\n"
     ]
    },
    {
     "name": "stdout",
     "output_type": "stream",
     "text": [
      "A áreado quadrilatero é:  18.0\n"
     ]
    }
   ],
   "source": [
    "lado1 = float(input(\"Digite o lado maior: \"))\n",
    "lado2 = float(input(\"Digite o lado menor: \"))\n",
    "area = lado1 * lado2\n",
    "print(\"A áreado quadrilatero é: \",area)"
   ]
  },
  {
   "cell_type": "code",
   "execution_count": null,
   "id": "3520adff-2e96-4753-8235-b0e9eefbfc1b",
   "metadata": {},
   "outputs": [],
   "source": []
  }
 ],
 "metadata": {
  "kernelspec": {
   "display_name": "Python [conda env:base] *",
   "language": "python",
   "name": "conda-base-py"
  },
  "language_info": {
   "codemirror_mode": {
    "name": "ipython",
    "version": 3
   },
   "file_extension": ".py",
   "mimetype": "text/x-python",
   "name": "python",
   "nbconvert_exporter": "python",
   "pygments_lexer": "ipython3",
   "version": "3.12.7"
  }
 },
 "nbformat": 4,
 "nbformat_minor": 5
}
