{
 "cells": [
  {
   "cell_type": "markdown",
   "metadata": {},
   "source": [
    "![Algoritmos e Estrutura de Dados I](AED1_banner.jpg)"
   ]
  },
  {
   "cell_type": "markdown",
   "metadata": {},
   "source": [
    "## <font color='blue'>Algoritmos e Estrutura de Dados I</font>\n",
    "## <font color='blue'>Aula 7 -  Condicionais</font>"
   ]
  },
  {
   "cell_type": "code",
   "execution_count": null,
   "metadata": {},
   "outputs": [],
   "source": [
    "# Versão da Linguagem Python\n",
    "from platform import python_version\n",
    "print('Versão da Linguagem Python Usada Neste Jupyter Notebook:', python_version())"
   ]
  },
  {
   "cell_type": "markdown",
   "metadata": {},
   "source": [
    "## Condicional If"
   ]
  },
  {
   "cell_type": "code",
   "execution_count": null,
   "metadata": {},
   "outputs": [],
   "source": [
    "# Condicional If (Se)\n",
    "if 5 > 2:\n",
    "    print(\"A sentença é verdadeira!\")"
   ]
  },
  {
   "cell_type": "code",
   "execution_count": null,
   "metadata": {},
   "outputs": [],
   "source": [
    "# Condicional If...Else\n",
    "if 5 < 2:\n",
    "    print(\"A sentença é verdadeira!\")\n",
    "else:\n",
    "    print(\"A sentença é falsa!\")"
   ]
  },
  {
   "cell_type": "code",
   "execution_count": null,
   "metadata": {},
   "outputs": [],
   "source": [
    "# Condicional If...Else com variável\n",
    "dia = \"Terça\"\n",
    "if dia == \"Segunda\":\n",
    "    print(\"Hoje fará sol!\")\n",
    "else:\n",
    "    print(\"Hoje vai chover!\")"
   ]
  },
  {
   "cell_type": "code",
   "execution_count": null,
   "metadata": {},
   "outputs": [],
   "source": [
    "# Podemos usar o operador elif para validar mais de uma condição\n",
    "dia = input(\"Qual do dia da semana: \")\n",
    "if dia == \"Segunda\":\n",
    "    print(\"Hoje fará sol!\")\n",
    "elif dia == \"Terça\":\n",
    "    print(\"Hoje vai chover!\")\n",
    "else:\n",
    "    print(\"Sem previsão do tempo para o dia selecionado\")"
   ]
  },
  {
   "cell_type": "markdown",
   "metadata": {},
   "source": [
    "## Operadores Relacionais\n",
    "\n",
    "Retorna um valor booleano."
   ]
  },
  {
   "cell_type": "code",
   "execution_count": null,
   "metadata": {},
   "outputs": [],
   "source": [
    "6 > 3"
   ]
  },
  {
   "cell_type": "code",
   "execution_count": null,
   "metadata": {},
   "outputs": [],
   "source": [
    "3 > 7"
   ]
  },
  {
   "cell_type": "code",
   "execution_count": null,
   "metadata": {},
   "outputs": [],
   "source": [
    "4 < 8"
   ]
  },
  {
   "cell_type": "code",
   "execution_count": null,
   "metadata": {},
   "outputs": [],
   "source": [
    "4 >= 4"
   ]
  },
  {
   "cell_type": "code",
   "execution_count": null,
   "metadata": {},
   "outputs": [],
   "source": [
    "5 == 5"
   ]
  },
  {
   "cell_type": "code",
   "execution_count": null,
   "metadata": {},
   "outputs": [],
   "source": [
    "if 5 == 5:\n",
    "    print(\"Testando Python!\")"
   ]
  },
  {
   "cell_type": "code",
   "execution_count": null,
   "metadata": {},
   "outputs": [],
   "source": [
    "if True:\n",
    "    print('Parece que Python funciona!')"
   ]
  },
  {
   "cell_type": "code",
   "execution_count": null,
   "metadata": {},
   "outputs": [],
   "source": [
    "# Atenção com a sintaxe\n",
    "if 4 > 3\n",
    "    print(\"Tudo funciona!\")"
   ]
  },
  {
   "cell_type": "code",
   "execution_count": null,
   "metadata": {},
   "outputs": [],
   "source": [
    "# Atenção com a sintaxe\n",
    "if 4 > 3:\n",
    "print(\"Tudo funciona!\")"
   ]
  },
  {
   "cell_type": "markdown",
   "metadata": {},
   "source": [
    "#### --> Atenção aos espaços entre a margem e cada um dos seus comandos. \n",
    "#### --> Esses espaços são chamados de \"identação\".\n",
    "#### --> A indentação faz parte da sintaxe da linguagem Python e identifica os blocos de código"
   ]
  },
  {
   "cell_type": "markdown",
   "metadata": {},
   "source": [
    "## Condicionais Aninhados"
   ]
  },
  {
   "cell_type": "code",
   "execution_count": null,
   "metadata": {},
   "outputs": [],
   "source": [
    "idade = 18\n",
    "if idade > 17:\n",
    "    print(\"Você pode dirigir!\")"
   ]
  },
  {
   "cell_type": "code",
   "execution_count": null,
   "metadata": {},
   "outputs": [],
   "source": [
    "Nome = \"Bob\"\n",
    "if idade > 13:\n",
    "    if Nome == \"Bob\":\n",
    "        print(\"Ok Bob, você está autorizado a entrar!\")\n",
    "    else:\n",
    "        print(\"Desculpe, mas você não pode entrar!\")"
   ]
  },
  {
   "cell_type": "code",
   "execution_count": null,
   "metadata": {},
   "outputs": [],
   "source": [
    "idade = 13\n",
    "Nome = \"Bob\"\n",
    "if idade >= 13 and Nome == \"Bob\":\n",
    "    print(\"Ok Bob, você está autorizado a entrar!\")"
   ]
  },
  {
   "cell_type": "code",
   "execution_count": null,
   "metadata": {},
   "outputs": [],
   "source": [
    "idade = 12\n",
    "Nome = \"Bob\"\n",
    "if (idade >= 13) or (Nome == \"Bob\"):\n",
    "    print(\"Ok Bob, você está autorizado a entrar!\")"
   ]
  },
  {
   "cell_type": "markdown",
   "metadata": {},
   "source": [
    "## Operadores Lógicos"
   ]
  },
  {
   "cell_type": "code",
   "execution_count": null,
   "metadata": {},
   "outputs": [],
   "source": [
    "idade = 18\n",
    "nome = \"Bob\"\n",
    "if idade > 17:\n",
    "    print(\"Você pode dirigir!\")"
   ]
  },
  {
   "cell_type": "code",
   "execution_count": null,
   "metadata": {},
   "outputs": [],
   "source": [
    "idade = 18\n",
    "if idade > 17 and nome == \"Bob\":\n",
    "    print(\"Autorizado!\")"
   ]
  },
  {
   "cell_type": "markdown",
   "metadata": {},
   "source": [
    "Os operadores lógicos funcionam assim:\n",
    "\n",
    "- Operador **and** - Retorna True se ambas as declarações forem verdadeiras.\n",
    "- Operador **or** - Retorna True se uma das declarações for verdadeira.\n",
    "- Operador **not** - Inverte o resultado, retorna False se o resultado for True."
   ]
  },
  {
   "cell_type": "code",
   "execution_count": null,
   "metadata": {},
   "outputs": [],
   "source": [
    "# Operador and\n",
    "\n",
    "numero = 4\n",
    "\n",
    "if (numero > 2) and (numero % 2 == 0):\n",
    "    print(\"Isso está sendo impresso porque as duas condições são verdadeiras!\")"
   ]
  },
  {
   "cell_type": "code",
   "execution_count": null,
   "metadata": {},
   "outputs": [],
   "source": [
    "# Operador and\n",
    "\n",
    "numero = 4\n",
    "\n",
    "if (numero > 5) and (numero % 2 == 0):\n",
    "    print(\"Isso está sendo impresso porque as duas condições são verdadeiras!\")\n",
    "else:\n",
    "    print(\"Isso está sendo impresso porque uma das duas condições é falsa!\")"
   ]
  },
  {
   "cell_type": "code",
   "execution_count": null,
   "metadata": {},
   "outputs": [],
   "source": [
    "# Operador or\n",
    "\n",
    "numero = 4\n",
    "\n",
    "if (numero > 5) or (numero % 2 == 0):\n",
    "    print(\"Isso está sendo impresso porque uma duas condições é verdadeira!\")"
   ]
  },
  {
   "cell_type": "code",
   "execution_count": null,
   "metadata": {},
   "outputs": [],
   "source": [
    "# Operador not\n",
    "\n",
    "numero = 4\n",
    "\n",
    "if not(numero > 5) and (numero % 2 == 0):\n",
    "    print(\"Isso está sendo impresso porque as duas condições são verdadeiras!\")\n",
    "else:\n",
    "    print(\"Isso está sendo impresso porque uma das duas condições é falsa!\")"
   ]
  },
  {
   "cell_type": "code",
   "execution_count": null,
   "metadata": {},
   "outputs": [],
   "source": [
    "# Operador and, or e not\n",
    "\n",
    "numero = 4\n",
    "\n",
    "if (not(numero > 5) and (numero % 2 == 0)) or (numero == 4):\n",
    "    print(\"Isso está sendo impresso porque as duas primeiras condições são verdadeiras ou a terceira é verdadeira!\")"
   ]
  },
  {
   "cell_type": "code",
   "execution_count": null,
   "metadata": {},
   "outputs": [],
   "source": [
    "# Exemplo com o uso de variáveis\n",
    "\n",
    "disciplina = 'Algoritmos'\n",
    "nota_final = 70\n",
    "\n",
    "if disciplina == 'Algoritmos' and nota_final >= 70:\n",
    "    print('Você foi aprovado!')\n",
    "else:\n",
    "    print('Lamento, acho que você precisa estudar mais!')"
   ]
  },
  {
   "cell_type": "code",
   "execution_count": null,
   "metadata": {},
   "outputs": [],
   "source": [
    "# Usando mais de uma condição na cláusula if \n",
    "\n",
    "disciplina = 'Algoritmos'\n",
    "nota_final = 60\n",
    "\n",
    "if disciplina == 'Algoritmos' and nota_final >= 70:\n",
    "    print('Você foi aprovado!')\n",
    "else:\n",
    "    print('Lamento, acho que você precisa estudar mais!')"
   ]
  },
  {
   "cell_type": "code",
   "execution_count": null,
   "metadata": {},
   "outputs": [],
   "source": [
    "# Usando mais de uma condição na cláusula if e introduzindo Placeholders\n",
    "\n",
    "disciplina = 'Algoritmos'\n",
    "nota_final = 90\n",
    "semestre = 1\n",
    "\n",
    "if disciplina == 'Data Science' and nota_final >= 80 and semestre != 2:\n",
    "    print('Você foi aprovado em %s com média final %r!' %(disciplina, nota_final))\n",
    "else:\n",
    "    print('Lamento, acho que você precisa estudar mais!')"
   ]
  },
  {
   "cell_type": "markdown",
   "metadata": {},
   "source": [
    "----------\n",
    "## Exercícios"
   ]
  },
  {
   "cell_type": "markdown",
   "metadata": {},
   "source": [
    "1. Faça um Programa que peça dois números e imprima o maior deles."
   ]
  },
  {
   "cell_type": "code",
   "execution_count": 5,
   "metadata": {},
   "outputs": [
    {
     "name": "stdin",
     "output_type": "stream",
     "text": [
      "Digite o primeiro numero: 25\n",
      "Digite o segundo numero: 25\n"
     ]
    },
    {
     "name": "stdout",
     "output_type": "stream",
     "text": [
      "Os dois números são iguais!\n"
     ]
    }
   ],
   "source": [
    "num1 = float(input(\"Digite o primeiro numero:\"))\n",
    "num2 = float(input(\"Digite o segundo numero:\"))\n",
    "if num1 > num2:\n",
    "    print(f\"O maior número é: {num1}\")\n",
    "elif num2>num1:\n",
    "    print(f\"O maior número é: {num2}\")\n",
    "else:\n",
    "    print(\"Os dois números são iguais!\")"
   ]
  },
  {
   "cell_type": "code",
   "execution_count": 7,
   "metadata": {},
   "outputs": [
    {
     "name": "stdin",
     "output_type": "stream",
     "text": [
      "Digite o primeiro numero: 189\n",
      "Digite o segundo numero: 192\n"
     ]
    },
    {
     "name": "stdout",
     "output_type": "stream",
     "text": [
      "O maior número é: 192.0\n"
     ]
    }
   ],
   "source": [
    "num1 = float(input(\"Digite o primeiro numero:\"))\n",
    "num2 = float(input(\"Digite o segundo numero:\"))\n",
    "if num1 > num2:\n",
    "    print(f\"O maior número é: {num1}\")\n",
    "elif num2>num1:\n",
    "    print(f\"O maior número é: {num2}\")\n",
    "else:\n",
    "    print(\"Os dois números são iguais!\")"
   ]
  },
  {
   "cell_type": "code",
   "execution_count": 9,
   "metadata": {},
   "outputs": [
    {
     "name": "stdin",
     "output_type": "stream",
     "text": [
      "Digite o primeiro numero: 285\n",
      "Digite o segundo numero: 27\n"
     ]
    },
    {
     "name": "stdout",
     "output_type": "stream",
     "text": [
      "O maior número é: 285.0\n"
     ]
    }
   ],
   "source": [
    "num1 = float(input(\"Digite o primeiro numero:\"))\n",
    "num2 = float(input(\"Digite o segundo numero:\"))\n",
    "if num1 > num2:\n",
    "    print(f\"O maior número é: {num1}\")\n",
    "elif num2>num1:\n",
    "    print(f\"O maior número é: {num2}\")\n",
    "else:\n",
    "    print(\"Os dois números são iguais!\")"
   ]
  },
  {
   "cell_type": "markdown",
   "metadata": {},
   "source": [
    "2. Faça um Programa que verifique se uma letra digitada é vogal ou consoante."
   ]
  },
  {
   "cell_type": "code",
   "execution_count": 13,
   "metadata": {},
   "outputs": [
    {
     "name": "stdin",
     "output_type": "stream",
     "text": [
      "Digite uma letra qualquer: k\n"
     ]
    },
    {
     "name": "stdout",
     "output_type": "stream",
     "text": [
      "A letra 'k'é uma consoante.\n"
     ]
    }
   ],
   "source": [
    "letra = input(\"Digite uma letra qualquer:\").lower()\n",
    "if len(letra) !=1 or not letra.isalpha():\n",
    "    print(\"Entrada inválida! Por favor digite uma unica letra.\")\n",
    "elif letra in \"aeiou\":\n",
    "    print (f\"A letra '{letra}'é uma vogal.\")\n",
    "else:\n",
    "    print (f\"A letra '{letra}'é uma consoante.\")"
   ]
  },
  {
   "cell_type": "code",
   "execution_count": 15,
   "metadata": {},
   "outputs": [
    {
     "name": "stdin",
     "output_type": "stream",
     "text": [
      "Digite uma letra qualquer: e\n"
     ]
    },
    {
     "name": "stdout",
     "output_type": "stream",
     "text": [
      "A letra 'e'é uma vogal.\n"
     ]
    }
   ],
   "source": [
    "letra = input(\"Digite uma letra qualquer:\").lower()\n",
    "if len(letra) !=1 or not letra.isalpha():\n",
    "    print(\"Entrada inválida! Por favor digite uma unica letra.\")\n",
    "elif letra in \"aeiou\":\n",
    "    print (f\"A letra '{letra}'é uma vogal.\")\n",
    "else:\n",
    "    print (f\"A letra '{letra}'é uma consoante.\")"
   ]
  },
  {
   "cell_type": "code",
   "execution_count": 2,
   "metadata": {},
   "outputs": [
    {
     "name": "stdin",
     "output_type": "stream",
     "text": [
      "Digite uma letra qualquer: ls\n"
     ]
    },
    {
     "name": "stdout",
     "output_type": "stream",
     "text": [
      "Entrada inválida! Por favor digite uma unica letra.\n"
     ]
    }
   ],
   "source": [
    "letra = input(\"Digite uma letra qualquer:\").lower()\n",
    "if len(letra) !=1 or not letra.isalpha():\n",
    "    print(\"Entrada inválida! Por favor digite uma unica letra.\")\n",
    "elif letra in \"aeiou\":\n",
    "    print (f\"A letra '{letra}'é uma vogal.\")\n",
    "else:\n",
    "    print (f\"A letra '{letra}'é uma consoante.\")"
   ]
  },
  {
   "cell_type": "code",
   "execution_count": 4,
   "metadata": {},
   "outputs": [
    {
     "name": "stdin",
     "output_type": "stream",
     "text": [
      "Digite uma letra qualquer: 6\n"
     ]
    },
    {
     "name": "stdout",
     "output_type": "stream",
     "text": [
      "Entrada inválida! Por favor digite uma unica letra.\n"
     ]
    }
   ],
   "source": [
    "letra = input(\"Digite uma letra qualquer:\").lower()\n",
    "if len(letra) !=1 or not letra.isalpha():\n",
    "    print(\"Entrada inválida! Por favor digite uma unica letra.\")\n",
    "elif letra in \"aeiou\":\n",
    "    print (f\"A letra '{letra}'é uma vogal.\")\n",
    "else:\n",
    "    print (f\"A letra '{letra}'é uma consoante.\")"
   ]
  },
  {
   "cell_type": "markdown",
   "metadata": {},
   "source": [
    "3. Faça um programa que receba a idade de um nadador e mostre a sua categoria usando as regras a seguir:\n",
    "\n",
    "Categoria_______Idade\n",
    "\n",
    "Infantil___________5 a 7\n",
    "\n",
    "Juvenil___________8 a 10\n",
    "\n",
    "Adolescente_____11 a 15\n",
    "\n",
    "Adulto___________16 a 30\n",
    "\n",
    "Sênior____________Acima de 30\n"
   ]
  },
  {
   "cell_type": "code",
   "execution_count": 33,
   "metadata": {},
   "outputs": [
    {
     "name": "stdin",
     "output_type": "stream",
     "text": [
      "Digite a idade do atleta: 4\n"
     ]
    },
    {
     "name": "stdout",
     "output_type": "stream",
     "text": [
      "Idade inválida!\n"
     ]
    }
   ],
   "source": [
    "idade = int(input(\"Digite a idade do atleta:\"))\n",
    "if (idade <= 5):\n",
    "    print (\"Idade inválida!\")\n",
    "elif idade>=30:\n",
    "    print (\"Categoria Senior\")\n",
    "elif idade>=16:\n",
    "    print (\"Categoria Adulto\")\n",
    "elif idade>=11:\n",
    "    print (\"Categoria Adolescente\")\n",
    "elif idade>=8:\n",
    "    print (\"Categoria Juvenil\")\n",
    "elif idade>=5:\n",
    "    print (\"Categoria Infantil\")"
   ]
  },
  {
   "cell_type": "code",
   "execution_count": 23,
   "metadata": {},
   "outputs": [
    {
     "name": "stdin",
     "output_type": "stream",
     "text": [
      "Digite a idade do atleta: 33\n"
     ]
    },
    {
     "name": "stdout",
     "output_type": "stream",
     "text": [
      "Categoria Senior\n"
     ]
    }
   ],
   "source": [
    "idade = int(input(\"Digite a idade do atleta:\"))\n",
    "if (idade <= 5):\n",
    "    print (\"Idade inválida!\")\n",
    "elif idade>=30:\n",
    "    print (\"Categoria Senior\")\n",
    "elif idade>=16:\n",
    "    print (\"Categoria Adulto\")\n",
    "elif idade>=11:\n",
    "    print (\"Categoria Adolescente\")\n",
    "elif idade>=8:\n",
    "    print (\"Categoria Juvenil\")\n",
    "elif idade>=5:\n",
    "    print (\"Categoria Infantil\")"
   ]
  },
  {
   "cell_type": "code",
   "execution_count": 25,
   "metadata": {},
   "outputs": [
    {
     "name": "stdin",
     "output_type": "stream",
     "text": [
      "Digite a idade do atleta: 6\n"
     ]
    },
    {
     "name": "stdout",
     "output_type": "stream",
     "text": [
      "Categoria Infantil\n"
     ]
    }
   ],
   "source": [
    "idade = int(input(\"Digite a idade do atleta:\"))\n",
    "if (idade <= 5):\n",
    "    print (\"Idade inválida!\")\n",
    "elif idade>=30:\n",
    "    print (\"Categoria Senior\")\n",
    "elif idade>=16:\n",
    "    print (\"Categoria Adulto\")\n",
    "elif idade>=11:\n",
    "    print (\"Categoria Adolescente\")\n",
    "elif idade>=8:\n",
    "    print (\"Categoria Juvenil\")\n",
    "elif idade>=5:\n",
    "    print (\"Categoria Infantil\")"
   ]
  },
  {
   "cell_type": "code",
   "execution_count": 27,
   "metadata": {},
   "outputs": [
    {
     "name": "stdin",
     "output_type": "stream",
     "text": [
      "Digite a idade do atleta: 9\n"
     ]
    },
    {
     "name": "stdout",
     "output_type": "stream",
     "text": [
      "Categoria Juvenil\n"
     ]
    }
   ],
   "source": [
    "idade = int(input(\"Digite a idade do atleta:\"))\n",
    "if (idade <= 5):\n",
    "    print (\"Idade inválida!\")\n",
    "elif idade>=30:\n",
    "    print (\"Categoria Senior\")\n",
    "elif idade>=16:\n",
    "    print (\"Categoria Adulto\")\n",
    "elif idade>=11:\n",
    "    print (\"Categoria Adolescente\")\n",
    "elif idade>=8:\n",
    "    print (\"Categoria Juvenil\")\n",
    "elif idade>=5:\n",
    "    print (\"Categoria Infantil\")"
   ]
  },
  {
   "cell_type": "code",
   "execution_count": 29,
   "metadata": {},
   "outputs": [
    {
     "name": "stdin",
     "output_type": "stream",
     "text": [
      "Digite a idade do atleta: 13\n"
     ]
    },
    {
     "name": "stdout",
     "output_type": "stream",
     "text": [
      "Categoria Adolescente\n"
     ]
    }
   ],
   "source": [
    "idade = int(input(\"Digite a idade do atleta:\"))\n",
    "if (idade <= 5):\n",
    "    print (\"Idade inválida!\")\n",
    "elif idade>=30:\n",
    "    print (\"Categoria Senior\")\n",
    "elif idade>=16:\n",
    "    print (\"Categoria Adulto\")\n",
    "elif idade>=11:\n",
    "    print (\"Categoria Adolescente\")\n",
    "elif idade>=8:\n",
    "    print (\"Categoria Juvenil\")\n",
    "elif idade>=5:\n",
    "    print (\"Categoria Infantil\")"
   ]
  },
  {
   "cell_type": "code",
   "execution_count": 31,
   "metadata": {},
   "outputs": [
    {
     "name": "stdin",
     "output_type": "stream",
     "text": [
      "Digite a idade do atleta: 19\n"
     ]
    },
    {
     "name": "stdout",
     "output_type": "stream",
     "text": [
      "Categoria Adulto\n"
     ]
    }
   ],
   "source": [
    "idade = int(input(\"Digite a idade do atleta:\"))\n",
    "if (idade <= 5):\n",
    "    print (\"Idade inválida!\")\n",
    "elif idade>=30:\n",
    "    print (\"Categoria Senior\")\n",
    "elif idade>=16:\n",
    "    print (\"Categoria Adulto\")\n",
    "elif idade>=11:\n",
    "    print (\"Categoria Adolescente\")\n",
    "elif idade>=8:\n",
    "    print (\"Categoria Juvenil\")\n",
    "elif idade>=5:\n",
    "    print (\"Categoria Infantil\")"
   ]
  },
  {
   "cell_type": "markdown",
   "metadata": {},
   "source": [
    "4. Faça um Programa que peça os 3 lados de um triângulo. O programa deverá informar se os valores podem ser um triângulo. Indique, caso os lados formem um triângulo, se o mesmo é: equilátero, isósceles ou escaleno.\n",
    "Dicas:\n",
    "- Três lados formam um triângulo quando a soma de quaisquer dois lados for maior que o terceiro;\n",
    "- Triângulo Equilátero: três lados iguais;\n",
    "- Triângulo Isósceles: quaisquer dois lados iguais;\n",
    "- Triângulo Escaleno: três lados diferentes;"
   ]
  },
  {
   "cell_type": "code",
   "execution_count": 26,
   "metadata": {},
   "outputs": [
    {
     "name": "stdin",
     "output_type": "stream",
     "text": [
      "Digite o primeiro lado: 2\n",
      "Digite o segurndo lado: 2\n",
      "Digite o terceiro lado: 5\n"
     ]
    },
    {
     "name": "stdout",
     "output_type": "stream",
     "text": [
      "Os Valores informados impossibilitam formar um triangulo\n"
     ]
    }
   ],
   "source": [
    "LadoA = float(input(\"Digite o primeiro lado:\"))\n",
    "LadoB = float(input(\"Digite o segurndo lado:\"))\n",
    "LadoC = float(input(\"Digite o terceiro lado:\"))\n",
    "if LadoA + LadoB > LadoC and LadoB + LadoC > LadoA and LadoA + LadoC > LadoB:\n",
    "    # É um Triangulo\n",
    "    if LadoA == LadoB == LadoC:\n",
    "        print(f\"O Triangulo é equiláterio\")\n",
    "    elif (LadoA == LadoB) or (LadoA == LadoC) or (LadoB == LadoC):\n",
    "        print(f\"O Triangulo é isósceles\")\n",
    "    else:\n",
    "        print(f\"O Triangulo é escaleno\")\n",
    "else:  \n",
    "    print(f\"Os Valores informados impossibilitam formar um triangulo\")"
   ]
  },
  {
   "cell_type": "code",
   "execution_count": 28,
   "metadata": {},
   "outputs": [
    {
     "name": "stdin",
     "output_type": "stream",
     "text": [
      "Digite o primeiro lado: 3\n",
      "Digite o segurndo lado: 4\n",
      "Digite o terceiro lado: 5\n"
     ]
    },
    {
     "name": "stdout",
     "output_type": "stream",
     "text": [
      "O Triangulo é escaleno\n"
     ]
    }
   ],
   "source": [
    "LadoA = float(input(\"Digite o primeiro lado:\"))\n",
    "LadoB = float(input(\"Digite o segurndo lado:\"))\n",
    "LadoC = float(input(\"Digite o terceiro lado:\"))\n",
    "if LadoA + LadoB > LadoC and LadoB + LadoC > LadoA and LadoA + LadoC > LadoB:\n",
    "    # É um Triangulo\n",
    "    if LadoA == LadoB == LadoC:\n",
    "        print(f\"O Triangulo é equiláterio\")\n",
    "    elif (LadoA == LadoB) or (LadoA == LadoC) or (LadoB == LadoC):\n",
    "        print(f\"O Triangulo é isósceles\")\n",
    "    else:\n",
    "        print(f\"O Triangulo é escaleno\")\n",
    "else:  \n",
    "    print(f\"Os Valores informados impossibilitam formar um triangulo\")"
   ]
  },
  {
   "cell_type": "code",
   "execution_count": 30,
   "metadata": {},
   "outputs": [
    {
     "name": "stdin",
     "output_type": "stream",
     "text": [
      "Digite o primeiro lado: 6\n",
      "Digite o segurndo lado: 6\n",
      "Digite o terceiro lado: 6\n"
     ]
    },
    {
     "name": "stdout",
     "output_type": "stream",
     "text": [
      "O Triangulo é equiláterio\n"
     ]
    }
   ],
   "source": [
    "LadoA = float(input(\"Digite o primeiro lado:\"))\n",
    "LadoB = float(input(\"Digite o segurndo lado:\"))\n",
    "LadoC = float(input(\"Digite o terceiro lado:\"))\n",
    "if LadoA + LadoB > LadoC and LadoB + LadoC > LadoA and LadoA + LadoC > LadoB:\n",
    "    # É um Triangulo\n",
    "    if LadoA == LadoB == LadoC:\n",
    "        print(f\"O Triangulo é equiláterio\")\n",
    "    elif (LadoA == LadoB) or (LadoA == LadoC) or (LadoB == LadoC):\n",
    "        print(f\"O Triangulo é isósceles\")\n",
    "    else:\n",
    "        print(f\"O Triangulo é escaleno\")\n",
    "else:  \n",
    "    print(f\"Os Valores informados impossibilitam formar um triangulo\")"
   ]
  },
  {
   "cell_type": "code",
   "execution_count": 32,
   "metadata": {},
   "outputs": [
    {
     "name": "stdin",
     "output_type": "stream",
     "text": [
      "Digite o primeiro lado: 7\n",
      "Digite o segurndo lado: 7\n",
      "Digite o terceiro lado: 9\n"
     ]
    },
    {
     "name": "stdout",
     "output_type": "stream",
     "text": [
      "O Triangulo é isósceles\n"
     ]
    }
   ],
   "source": [
    "LadoA = float(input(\"Digite o primeiro lado:\"))\n",
    "LadoB = float(input(\"Digite o segurndo lado:\"))\n",
    "LadoC = float(input(\"Digite o terceiro lado:\"))\n",
    "if LadoA + LadoB > LadoC and LadoB + LadoC > LadoA and LadoA + LadoC > LadoB:\n",
    "    # É um Triangulo\n",
    "    if LadoA == LadoB == LadoC:\n",
    "        print(f\"O Triangulo é equiláterio\")\n",
    "    elif (LadoA == LadoB) or (LadoA == LadoC) or (LadoB == LadoC):\n",
    "        print(f\"O Triangulo é isósceles\")\n",
    "    else:\n",
    "        print(f\"O Triangulo é escaleno\")\n",
    "else:  \n",
    "    print(f\"Os Valores informados impossibilitam formar um triangulo\")"
   ]
  },
  {
   "cell_type": "markdown",
   "metadata": {},
   "source": [
    "5. Faça um programa que calcule as raízes de uma equação do segundo grau, na forma ax2 + bx + c. O programa deverá pedir os valores de a, b e c e fazer as consistências, informando ao usuário nas seguintes situações:\n",
    "- Se o usuário informar o valor de a igual a zero, a equação não é do segundo grau e o programa não deve fazer pedir os demais valores, sendo encerrado;\n",
    "- Se o delta calculado for negativo, a equação não possui raízes reais. Informe ao usuário e encerre o programa;\n",
    "- Se o delta calculado for igual a zero a equação possui apenas uma raiz real; informe-a ao usuário;\n",
    "- Se o delta for positivo, a equação possui duas raiz reais; informe-as ao usuário;\n"
   ]
  },
  {
   "cell_type": "code",
   "execution_count": 24,
   "metadata": {},
   "outputs": [
    {
     "name": "stdin",
     "output_type": "stream",
     "text": [
      "Digite o valor de a:  0\n"
     ]
    },
    {
     "name": "stdout",
     "output_type": "stream",
     "text": [
      "A equação não é de segundo grau!\n"
     ]
    }
   ],
   "source": [
    "import math\n",
    "\n",
    "def calcular_raizes_equacao_segundo_grau():\n",
    "  \"\"\"\n",
    "  Calcula as raízes de uma equação do segundo grau na forma ax² + bx + c = 0.\n",
    "\n",
    "  O programa solicita os valores de a, b e c ao usuário e realiza as seguintes consistências:\n",
    "    - Se a = 0, a equação não é do segundo grau e o programa é encerrado.\n",
    "    - Se o delta for negativo, a equação não possui raízes reais e o programa é encerrado.\n",
    "    - Se o delta for igual a zero, a equação possui apenas uma raiz real e a exibe.\n",
    "    - Se o delta for positivo, a equação possui duas raízes reais e as exibe.\n",
    "  \"\"\"\n",
    "a = float(input(\"Digite o valor de a: \"))\n",
    "if a == 0:\n",
    "    print (f\"A equação não é de segundo grau!\")\n",
    "elif a>0:\n",
    "    b = float(input(\"Digite o valor de b:\"))\n",
    "    c = float(input(\"Digite o valor de c:\"))\n",
    "    delta = b**2 - 4 * a * c\n",
    "    if delta < 0:\n",
    "        print(\"A equação não possui raizes reais.\")\n",
    "    elif delta == 0:\n",
    "        raiz = -b/(2*a)\n",
    "        print (f\"A equação possui apenas uma raiz real: {raiz}\")\n",
    "    elif delta > 0:\n",
    "        raiz1 = (-b + math.sqrt(delta))/(2*a)\n",
    "        raiz2 = (-b - math.sqrt(delta))/(2*a)\n",
    "        print (f\"A equação possui duas raizes reais:'{raiz1}' e '{raiz2}'\")"
   ]
  },
  {
   "cell_type": "code",
   "execution_count": 25,
   "metadata": {},
   "outputs": [
    {
     "name": "stdin",
     "output_type": "stream",
     "text": [
      "Digite o valor de a:  1\n",
      "Digite o valor de b: -4\n",
      "Digite o valor de c: 4\n"
     ]
    },
    {
     "name": "stdout",
     "output_type": "stream",
     "text": [
      "A equação possui apenas uma raiz real: 2.0\n"
     ]
    }
   ],
   "source": [
    "import math\n",
    "\n",
    "def calcular_raizes_equacao_segundo_grau():\n",
    "  \"\"\"\n",
    "  Calcula as raízes de uma equação do segundo grau na forma ax² + bx + c = 0.\n",
    "\n",
    "  O programa solicita os valores de a, b e c ao usuário e realiza as seguintes consistências:\n",
    "    - Se a = 0, a equação não é do segundo grau e o programa é encerrado.\n",
    "    - Se o delta for negativo, a equação não possui raízes reais e o programa é encerrado.\n",
    "    - Se o delta for igual a zero, a equação possui apenas uma raiz real e a exibe.\n",
    "    - Se o delta for positivo, a equação possui duas raízes reais e as exibe.\n",
    "  \"\"\"\n",
    "a = float(input(\"Digite o valor de a: \"))\n",
    "if a == 0:\n",
    "    print (f\"A equação não é de segundo grau!\")\n",
    "elif a>0:\n",
    "    b = float(input(\"Digite o valor de b:\"))\n",
    "    c = float(input(\"Digite o valor de c:\"))\n",
    "    delta = b**2 - 4 * a * c\n",
    "    if delta < 0:\n",
    "        print(\"A equação não possui raizes reais.\")\n",
    "    elif delta == 0:\n",
    "        raiz = -b/(2*a)\n",
    "        print (f\"A equação possui apenas uma raiz real: {raiz}\")\n",
    "    elif delta > 0:\n",
    "        raiz1 = (-b + math.sqrt(delta))/(2*a)\n",
    "        raiz2 = (-b - math.sqrt(delta))/(2*a)\n",
    "        print (f\"A equação possui duas raizes reais:'{raiz1}' e '{raiz2}'\")"
   ]
  },
  {
   "cell_type": "code",
   "execution_count": 26,
   "metadata": {},
   "outputs": [
    {
     "name": "stdin",
     "output_type": "stream",
     "text": [
      "Digite o valor de a:  1\n",
      "Digite o valor de b: -1\n",
      "Digite o valor de c: -2\n"
     ]
    },
    {
     "name": "stdout",
     "output_type": "stream",
     "text": [
      "A equação possui duas raizes reais:'2.0' e '-1.0'\n"
     ]
    }
   ],
   "source": [
    "import math\n",
    "\n",
    "def calcular_raizes_equacao_segundo_grau():\n",
    "  \"\"\"\n",
    "  Calcula as raízes de uma equação do segundo grau na forma ax² + bx + c = 0.\n",
    "\n",
    "  O programa solicita os valores de a, b e c ao usuário e realiza as seguintes consistências:\n",
    "    - Se a = 0, a equação não é do segundo grau e o programa é encerrado.\n",
    "    - Se o delta for negativo, a equação não possui raízes reais e o programa é encerrado.\n",
    "    - Se o delta for igual a zero, a equação possui apenas uma raiz real e a exibe.\n",
    "    - Se o delta for positivo, a equação possui duas raízes reais e as exibe.\n",
    "  \"\"\"\n",
    "a = float(input(\"Digite o valor de a: \"))\n",
    "if a == 0:\n",
    "    print (f\"A equação não é de segundo grau!\")\n",
    "elif a>0:\n",
    "    b = float(input(\"Digite o valor de b:\"))\n",
    "    c = float(input(\"Digite o valor de c:\"))\n",
    "    delta = b**2 - 4 * a * c\n",
    "    if delta < 0:\n",
    "        print(\"A equação não possui raizes reais.\")\n",
    "    elif delta == 0:\n",
    "        raiz = -b/(2*a)\n",
    "        print (f\"A equação possui apenas uma raiz real: {raiz}\")\n",
    "    elif delta > 0:\n",
    "        raiz1 = (-b + math.sqrt(delta))/(2*a)\n",
    "        raiz2 = (-b - math.sqrt(delta))/(2*a)\n",
    "        print (f\"A equação possui duas raizes reais:'{raiz1}' e '{raiz2}'\")"
   ]
  },
  {
   "cell_type": "markdown",
   "metadata": {},
   "source": [
    "## Fim da Aula 7"
   ]
  },
  {
   "cell_type": "code",
   "execution_count": null,
   "metadata": {},
   "outputs": [],
   "source": []
  }
 ],
 "metadata": {
  "kernelspec": {
   "display_name": "Python [conda env:base] *",
   "language": "python",
   "name": "conda-base-py"
  },
  "language_info": {
   "codemirror_mode": {
    "name": "ipython",
    "version": 3
   },
   "file_extension": ".py",
   "mimetype": "text/x-python",
   "name": "python",
   "nbconvert_exporter": "python",
   "pygments_lexer": "ipython3",
   "version": "3.12.7"
  }
 },
 "nbformat": 4,
 "nbformat_minor": 4
}
